{
  "nbformat": 4,
  "nbformat_minor": 0,
  "metadata": {
    "colab": {
      "name": "RNN Training And Tags Prediction.ipynb",
      "provenance": []
    },
    "kernelspec": {
      "name": "python3",
      "display_name": "Python 3"
    }
  },
  "cells": [
    {
      "cell_type": "code",
      "metadata": {
        "id": "6nF9fDVFpsXM"
      },
      "source": [
        "from keras.models import Sequential\n",
        "from keras.layers import Dense, Dropout, Activation, LSTM, Embedding, Bidirectional, TimeDistributed, BatchNormalization\n",
        "from tensorflow.keras.utils import to_categorical\n",
        "from tensorflow.keras.preprocessing.text import Tokenizer\n",
        "from tensorflow.keras.preprocessing.sequence import pad_sequences\n",
        "from google.colab import drive\n",
        "import json"
      ],
      "execution_count": null,
      "outputs": []
    },
    {
      "cell_type": "code",
      "metadata": {
        "colab": {
          "base_uri": "https://localhost:8080/"
        },
        "id": "nJmGvjF91ZLO",
        "outputId": "36edaef9-88c1-411c-b1d5-f884690a4344"
      },
      "source": [
        "drive.mount('/content/drive')"
      ],
      "execution_count": null,
      "outputs": [
        {
          "output_type": "stream",
          "text": [
            "Mounted at /content/drive\n"
          ],
          "name": "stdout"
        }
      ]
    },
    {
      "cell_type": "code",
      "metadata": {
        "id": "WkRPLGNk1ZvC"
      },
      "source": [
        "tagged_sents = []\n",
        "with open('/content/drive/MyDrive/Cleaned_Sentences_Task/cleaned_sentences.txt', 'r') as file:\n",
        "    tagged_sents = json.load(file)"
      ],
      "execution_count": null,
      "outputs": []
    },
    {
      "cell_type": "code",
      "metadata": {
        "colab": {
          "base_uri": "https://localhost:8080/"
        },
        "id": "vYqWzVDE1tlK",
        "outputId": "68e0da33-bd39-4ca5-e6f5-e052502668fd"
      },
      "source": [
        "print(tagged_sents[0])"
      ],
      "execution_count": null,
      "outputs": [
        {
          "output_type": "stream",
          "text": [
            "[['आग', 'nn'], ['की', 'psp']]\n"
          ],
          "name": "stdout"
        }
      ]
    },
    {
      "cell_type": "code",
      "metadata": {
        "id": "1nUKdJq710QQ"
      },
      "source": [
        "tagged_sentences = []\n",
        "for i in tagged_sents:\n",
        "    tagged_sentences.append([tuple(i[0]), tuple(i[1])])"
      ],
      "execution_count": null,
      "outputs": []
    },
    {
      "cell_type": "code",
      "metadata": {
        "colab": {
          "base_uri": "https://localhost:8080/"
        },
        "id": "XIYMBdu11_Pp",
        "outputId": "e3afd5ce-d25c-4f7f-de70-bf5c3dc0efe0"
      },
      "source": [
        "print(tagged_sentences[0])"
      ],
      "execution_count": null,
      "outputs": [
        {
          "output_type": "stream",
          "text": [
            "[('आग', 'nn'), ('की', 'psp')]\n"
          ],
          "name": "stdout"
        }
      ]
    },
    {
      "cell_type": "code",
      "metadata": {
        "id": "XQ2HXNEQ2GrC"
      },
      "source": [
        "sentences, tags = [], []\n",
        "for i in tagged_sentences:\n",
        "  curr_sent, curr_tag = [], []\n",
        "  for word, tag in i:\n",
        "    curr_sent.append(word)\n",
        "    curr_tag.append(tag.lower())\n",
        "  sentences.append(curr_sent)\n",
        "  tags.append(curr_tag)"
      ],
      "execution_count": null,
      "outputs": []
    },
    {
      "cell_type": "code",
      "metadata": {
        "colab": {
          "base_uri": "https://localhost:8080/"
        },
        "id": "OBDP_xxk2PpE",
        "outputId": "12433a4a-5bc9-4195-815a-1f2f39481e3a"
      },
      "source": [
        "print(sentences[0])\n",
        "print(tags[0])"
      ],
      "execution_count": null,
      "outputs": [
        {
          "output_type": "stream",
          "text": [
            "['आग', 'की']\n",
            "['nn', 'psp']\n"
          ],
          "name": "stdout"
        }
      ]
    },
    {
      "cell_type": "code",
      "metadata": {
        "id": "QWNMw1c12TuW"
      },
      "source": [
        "tokenizer_sents = Tokenizer()\n",
        "tokenizer_sents.fit_on_texts(sentences)\n",
        "tokenized_sents = tokenizer_sents.texts_to_sequences(sentences)"
      ],
      "execution_count": null,
      "outputs": []
    },
    {
      "cell_type": "code",
      "metadata": {
        "colab": {
          "base_uri": "https://localhost:8080/"
        },
        "id": "a6kVXyqP2a3m",
        "outputId": "23dfdd64-f265-44a2-a91a-5fb255187a43"
      },
      "source": [
        "print(tokenized_sents[0])"
      ],
      "execution_count": null,
      "outputs": [
        {
          "output_type": "stream",
          "text": [
            "[632, 3]\n"
          ],
          "name": "stdout"
        }
      ]
    },
    {
      "cell_type": "code",
      "metadata": {
        "id": "7VJCR2wd2cvj"
      },
      "source": [
        "tokenizer_tags = Tokenizer()\n",
        "tokenizer_tags.fit_on_texts(tags)\n",
        "tokenized_tags = tokenizer_tags.texts_to_sequences(tags)"
      ],
      "execution_count": null,
      "outputs": []
    },
    {
      "cell_type": "code",
      "metadata": {
        "colab": {
          "base_uri": "https://localhost:8080/"
        },
        "id": "Y-hOvk9_2enn",
        "outputId": "ff1db0e3-7284-4e12-eeaa-b2d7998dcf4e"
      },
      "source": [
        "tokenized_tags[0]"
      ],
      "execution_count": null,
      "outputs": [
        {
          "output_type": "execute_result",
          "data": {
            "text/plain": [
              "[1, 2]"
            ]
          },
          "metadata": {
            "tags": []
          },
          "execution_count": 17
        }
      ]
    },
    {
      "cell_type": "code",
      "metadata": {
        "id": "7AFWIgYT2hb3"
      },
      "source": [
        "model = Sequential()\n",
        "model.add(Embedding(input_dim=len(tokenizer_sents.word_index) + 1, output_dim=128, input_length=2, trainable=True))\n",
        "model.add(Bidirectional(LSTM(512, return_sequences=True, activation='relu')))\n",
        "model.add(Dropout(0.2))\n",
        "model.add(Bidirectional(LSTM(256, return_sequences=True, activation='relu')))\n",
        "model.add(Bidirectional(LSTM(128, return_sequences=True, activation='relu')))\n",
        "model.add(Dropout(0.2))\n",
        "model.add(TimeDistributed(Dense(128, activation='relu')))\n",
        "model.add(Dropout(0.2))\n",
        "model.add(TimeDistributed(Dense(64, activation='relu')))\n",
        "model.add(TimeDistributed(Dense(len(tokenizer_tags.word_index) + 1, activation='softmax')))"
      ],
      "execution_count": null,
      "outputs": []
    },
    {
      "cell_type": "code",
      "metadata": {
        "id": "cPyKgB5x2jl_"
      },
      "source": [
        "model.compile(loss='categorical_crossentropy', optimizer='adam', metrics=['acc'])"
      ],
      "execution_count": null,
      "outputs": []
    },
    {
      "cell_type": "code",
      "metadata": {
        "colab": {
          "base_uri": "https://localhost:8080/"
        },
        "id": "TplqoaMj2mJn",
        "outputId": "87f4929d-7a01-4d68-91d4-6719d9869dd2"
      },
      "source": [
        "model.summary()"
      ],
      "execution_count": null,
      "outputs": [
        {
          "output_type": "stream",
          "text": [
            "Model: \"sequential_1\"\n",
            "_________________________________________________________________\n",
            "Layer (type)                 Output Shape              Param #   \n",
            "=================================================================\n",
            "embedding_1 (Embedding)      (None, 2, 128)            2589952   \n",
            "_________________________________________________________________\n",
            "bidirectional_3 (Bidirection (None, 2, 1024)           2625536   \n",
            "_________________________________________________________________\n",
            "dropout_3 (Dropout)          (None, 2, 1024)           0         \n",
            "_________________________________________________________________\n",
            "bidirectional_4 (Bidirection (None, 2, 512)            2623488   \n",
            "_________________________________________________________________\n",
            "bidirectional_5 (Bidirection (None, 2, 256)            656384    \n",
            "_________________________________________________________________\n",
            "dropout_4 (Dropout)          (None, 2, 256)            0         \n",
            "_________________________________________________________________\n",
            "time_distributed_2 (TimeDist (None, 2, 128)            32896     \n",
            "_________________________________________________________________\n",
            "dropout_5 (Dropout)          (None, 2, 128)            0         \n",
            "_________________________________________________________________\n",
            "time_distributed_3 (TimeDist (None, 2, 64)             8256      \n",
            "_________________________________________________________________\n",
            "time_distributed_4 (TimeDist (None, 2, 34)             2210      \n",
            "=================================================================\n",
            "Total params: 8,538,722\n",
            "Trainable params: 8,538,722\n",
            "Non-trainable params: 0\n",
            "_________________________________________________________________\n"
          ],
          "name": "stdout"
        }
      ]
    },
    {
      "cell_type": "code",
      "metadata": {
        "id": "mG06eKff2nkg"
      },
      "source": [
        "padded_sents = pad_sequences(tokenized_sents, maxlen=2, padding='post')\n",
        "padded_tags = pad_sequences(tokenized_tags, maxlen=2, padding='post')"
      ],
      "execution_count": null,
      "outputs": []
    },
    {
      "cell_type": "code",
      "metadata": {
        "colab": {
          "base_uri": "https://localhost:8080/"
        },
        "id": "w6h7kux32pPj",
        "outputId": "fe1675f6-fec6-4a26-c11f-add7a944ee83"
      },
      "source": [
        "model.fit(padded_sents[0: -4000], to_categorical(padded_tags[0: -4000]), batch_size=128, epochs=20, validation_split=0.2)"
      ],
      "execution_count": null,
      "outputs": [
        {
          "output_type": "stream",
          "text": [
            "Epoch 1/20\n",
            "2047/2047 [==============================] - 634s 310ms/step - loss: 0.6630 - acc: 0.7968 - val_loss: 0.2966 - val_acc: 0.9115\n",
            "Epoch 2/20\n",
            "2047/2047 [==============================] - 637s 311ms/step - loss: 0.2526 - acc: 0.9234 - val_loss: 0.2358 - val_acc: 0.9249\n",
            "Epoch 3/20\n",
            "2047/2047 [==============================] - 623s 305ms/step - loss: 0.2044 - acc: 0.9354 - val_loss: 0.2252 - val_acc: 0.9294\n",
            "Epoch 4/20\n",
            "2047/2047 [==============================] - 622s 304ms/step - loss: 0.1802 - acc: 0.9411 - val_loss: 0.2077 - val_acc: 0.9316\n",
            "Epoch 5/20\n",
            "2047/2047 [==============================] - 624s 305ms/step - loss: 0.1615 - acc: 0.9457 - val_loss: 0.2050 - val_acc: 0.9339\n",
            "Epoch 6/20\n",
            "2047/2047 [==============================] - 631s 308ms/step - loss: 0.1474 - acc: 0.9493 - val_loss: 0.2135 - val_acc: 0.9348\n",
            "Epoch 7/20\n",
            "2047/2047 [==============================] - 628s 307ms/step - loss: 0.1363 - acc: 0.9526 - val_loss: 0.2172 - val_acc: 0.9351\n",
            "Epoch 8/20\n",
            "2047/2047 [==============================] - 631s 308ms/step - loss: 0.1282 - acc: 0.9550 - val_loss: 0.2169 - val_acc: 0.9350\n",
            "Epoch 9/20\n",
            "2047/2047 [==============================] - 626s 306ms/step - loss: 0.1210 - acc: 0.9568 - val_loss: 0.2223 - val_acc: 0.9360\n",
            "Epoch 10/20\n",
            "2047/2047 [==============================] - 631s 308ms/step - loss: 0.1153 - acc: 0.9583 - val_loss: 0.2346 - val_acc: 0.9358\n",
            "Epoch 11/20\n",
            "2047/2047 [==============================] - 632s 309ms/step - loss: 0.1096 - acc: 0.9601 - val_loss: 0.2389 - val_acc: 0.9345\n",
            "Epoch 12/20\n",
            "2047/2047 [==============================] - 632s 309ms/step - loss: 0.1048 - acc: 0.9612 - val_loss: 0.2343 - val_acc: 0.9358\n",
            "Epoch 13/20\n",
            "2047/2047 [==============================] - 638s 312ms/step - loss: 0.1009 - acc: 0.9625 - val_loss: 0.2518 - val_acc: 0.9361\n",
            "Epoch 14/20\n",
            "2047/2047 [==============================] - 629s 307ms/step - loss: 0.0973 - acc: 0.9638 - val_loss: 0.2443 - val_acc: 0.9370\n",
            "Epoch 15/20\n",
            "2047/2047 [==============================] - 637s 311ms/step - loss: 0.0937 - acc: 0.9648 - val_loss: 0.2573 - val_acc: 0.9358\n",
            "Epoch 16/20\n",
            "2047/2047 [==============================] - 636s 311ms/step - loss: 0.0906 - acc: 0.9656 - val_loss: 0.2709 - val_acc: 0.9367\n",
            "Epoch 17/20\n",
            "2047/2047 [==============================] - 631s 308ms/step - loss: 0.0883 - acc: 0.9663 - val_loss: 0.2702 - val_acc: 0.9347\n",
            "Epoch 18/20\n",
            "2047/2047 [==============================] - 638s 312ms/step - loss: 0.0859 - acc: 0.9672 - val_loss: 0.2798 - val_acc: 0.9359\n",
            "Epoch 19/20\n",
            "2047/2047 [==============================] - 641s 313ms/step - loss: 0.0836 - acc: 0.9680 - val_loss: 0.2768 - val_acc: 0.9351\n",
            "Epoch 20/20\n",
            "2047/2047 [==============================] - 640s 313ms/step - loss: 0.0815 - acc: 0.9688 - val_loss: 0.2732 - val_acc: 0.9356\n"
          ],
          "name": "stdout"
        },
        {
          "output_type": "execute_result",
          "data": {
            "text/plain": [
              "<tensorflow.python.keras.callbacks.History at 0x7fdf0f1cd7f0>"
            ]
          },
          "metadata": {
            "tags": []
          },
          "execution_count": 26
        }
      ]
    },
    {
      "cell_type": "code",
      "metadata": {
        "colab": {
          "base_uri": "https://localhost:8080/"
        },
        "id": "BrLRXNY32yNy",
        "outputId": "01eb9da7-ddf1-4b46-a2d0-5e5bcf6e21c8"
      },
      "source": [
        "print(\"Accuracy of the model =\", model.evaluate(padded_sents[-4000: ], to_categorical(padded_tags[-4000: ], num_classes=len(tokenizer_tags.word_index) + 1))[1])"
      ],
      "execution_count": null,
      "outputs": [
        {
          "output_type": "stream",
          "text": [
            "125/125 [==============================] - 4s 29ms/step - loss: 0.2738 - acc: 0.9352\n",
            "125/125 [==============================] - 4s 29ms/step - loss: 0.2738 - acc: 0.9352\n",
            "Accuracy of the model = 0.9352499842643738\n"
          ],
          "name": "stdout"
        }
      ]
    },
    {
      "cell_type": "code",
      "metadata": {
        "id": "51KBPYcV21Ck"
      },
      "source": [
        "actual = [list(i) for i in padded_tags[-5: ]]\n",
        "actuals = []\n",
        "for i in actual:\n",
        "  curr = []\n",
        "  for v in i:\n",
        "    curr.append(int(v))\n",
        "  actuals.append(curr)"
      ],
      "execution_count": null,
      "outputs": []
    },
    {
      "cell_type": "code",
      "metadata": {
        "colab": {
          "base_uri": "https://localhost:8080/"
        },
        "id": "xrJmcgTe3DUm",
        "outputId": "ce52bcdd-590e-40d3-c7a9-0e9388a84ccf"
      },
      "source": [
        "predictions = []\n",
        "for i in model.predict_classes(padded_sents[-5: ]):\n",
        "  curr = []\n",
        "  for v in i:\n",
        "    curr.append(int(v))\n",
        "  predictions.append(curr)\n",
        "print(predictions)"
      ],
      "execution_count": null,
      "outputs": [
        {
          "output_type": "stream",
          "text": [
            "WARNING:tensorflow:From <ipython-input-30-f870f4c723de>:2: Sequential.predict_classes (from tensorflow.python.keras.engine.sequential) is deprecated and will be removed after 2021-01-01.\n",
            "Instructions for updating:\n",
            "Please use instead:* `np.argmax(model.predict(x), axis=-1)`,   if your model does multi-class classification   (e.g. if it uses a `softmax` last-layer activation).* `(model.predict(x) > 0.5).astype(\"int32\")`,   if your model does binary classification   (e.g. if it uses a `sigmoid` last-layer activation).\n",
            "[[7, 7], [8, 10], [8, 24], [2, 5], [4, 2]]\n"
          ],
          "name": "stdout"
        }
      ]
    },
    {
      "cell_type": "code",
      "metadata": {
        "colab": {
          "base_uri": "https://localhost:8080/"
        },
        "id": "8cnW1mjV3Fld",
        "outputId": "8064738f-dd2e-4a51-b19e-2806329b8c59"
      },
      "source": [
        "pred = tokenizer_tags.sequences_to_texts(predictions)\n",
        "act = tokenizer_tags.sequences_to_texts(actuals)\n",
        "print(pred)\n",
        "print(act)"
      ],
      "execution_count": null,
      "outputs": [
        {
          "output_type": "stream",
          "text": [
            "['prp prp', 'cc nnc', 'cc inj', 'psp jj', 'nnp psp']\n",
            "['prp prp', 'cc nnc', 'cc inj', 'psp jj', 'nnp psp']\n"
          ],
          "name": "stdout"
        }
      ]
    },
    {
      "cell_type": "code",
      "metadata": {
        "id": "15-stPsI3IOj"
      },
      "source": [
        "predictions = model.predict_classes(padded_sents)"
      ],
      "execution_count": null,
      "outputs": []
    },
    {
      "cell_type": "code",
      "metadata": {
        "id": "ClJI5NFL3PvE"
      },
      "source": [
        "predict = [list(i) for i in predictions]\n",
        "final_predict = tokenizer_tags.sequences_to_texts(predict)"
      ],
      "execution_count": null,
      "outputs": []
    },
    {
      "cell_type": "code",
      "metadata": {
        "id": "6DphvHmn3TxW"
      },
      "source": [
        "rnn_tags = []\n",
        "for i in final_predict:\n",
        "  rnn_tags.extend(i.split(\" \"))"
      ],
      "execution_count": null,
      "outputs": []
    },
    {
      "cell_type": "code",
      "metadata": {
        "colab": {
          "base_uri": "https://localhost:8080/"
        },
        "id": "BDT7PGanpAgi",
        "outputId": "c31f510c-9618-4ab1-b7a7-f5ecb3465aa9"
      },
      "source": [
        "print(len(tags) * 2)\n",
        "print(len(rnn_tags))"
      ],
      "execution_count": null,
      "outputs": [
        {
          "output_type": "stream",
          "text": [
            "662728\n",
            "662728\n"
          ],
          "name": "stdout"
        }
      ]
    },
    {
      "cell_type": "code",
      "metadata": {
        "id": "TJL22Xo2n76w"
      },
      "source": [
        "with open ('/content/drive/MyDrive/Cleaned_Sentences_Task/rnn_predictions.txt', 'w+') as file:\n",
        "    json.dump(rnn_tags, file)"
      ],
      "execution_count": null,
      "outputs": []
    }
  ]
}