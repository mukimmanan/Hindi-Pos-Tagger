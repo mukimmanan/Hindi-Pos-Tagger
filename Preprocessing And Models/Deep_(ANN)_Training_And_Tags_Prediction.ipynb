{
  "nbformat": 4,
  "nbformat_minor": 0,
  "metadata": {
    "colab": {
      "name": "Deep (ANN) Training And Tags Prediction.ipynb",
      "provenance": []
    },
    "kernelspec": {
      "name": "python3",
      "display_name": "Python 3"
    }
  },
  "cells": [
    {
      "cell_type": "code",
      "metadata": {
        "id": "4Ejm_Vu0lKS3"
      },
      "source": [
        "from sklearn.feature_extraction import DictVectorizer\n",
        "from sklearn.model_selection import train_test_split\n",
        "from sklearn.svm import SVC\n",
        "from sklearn.preprocessing import LabelEncoder\n",
        "from google.colab import drive\n",
        "import json\n",
        "from sklearn.metrics import accuracy_score\n",
        "from keras.models import Sequential\n",
        "from keras.layers import Dense, Dropout, BatchNormalization\n",
        "from tensorflow.keras.utils import to_categorical"
      ],
      "execution_count": null,
      "outputs": []
    },
    {
      "cell_type": "code",
      "metadata": {
        "colab": {
          "base_uri": "https://localhost:8080/"
        },
        "id": "tmRUHpJJmmO-",
        "outputId": "9ca9925e-e3c1-4d2a-8796-32cbe9114ef1"
      },
      "source": [
        "drive.mount('/content/drive')"
      ],
      "execution_count": null,
      "outputs": [
        {
          "output_type": "stream",
          "text": [
            "Mounted at /content/drive\n"
          ],
          "name": "stdout"
        }
      ]
    },
    {
      "cell_type": "code",
      "metadata": {
        "id": "wBXGbvlllt1O"
      },
      "source": [
        "actual_tags = []\n",
        "with open ('/content/drive/MyDrive/Cleaned_Sentences_Task/tags_original.txt', 'r') as file:\n",
        "    actual_tags = json.load(file)"
      ],
      "execution_count": null,
      "outputs": []
    },
    {
      "cell_type": "code",
      "metadata": {
        "id": "RifiaGxMlyXO"
      },
      "source": [
        "removed = []\n",
        "with open ('/content/drive/MyDrive/Cleaned_Sentences_Task/sentences_without_tags.txt', 'r') as file:\n",
        "    removed = json.load(file)"
      ],
      "execution_count": null,
      "outputs": []
    },
    {
      "cell_type": "code",
      "metadata": {
        "colab": {
          "base_uri": "https://localhost:8080/"
        },
        "id": "Da2SKNsrl0Vb",
        "outputId": "30af7cd0-2267-4544-b78e-6b98bd27ef25"
      },
      "source": [
        "print(len(removed))"
      ],
      "execution_count": null,
      "outputs": [
        {
          "output_type": "stream",
          "text": [
            "331364\n"
          ],
          "name": "stdout"
        }
      ]
    },
    {
      "cell_type": "code",
      "metadata": {
        "id": "iv7EOHI3l2vi"
      },
      "source": [
        "def extract_features(sentence, index):\n",
        "  return {\n",
        "      'word':sentence[index],\n",
        "      'is_first':index==0,\n",
        "      'is_last':index ==len(sentence)-1,\n",
        "      'prefix-1':sentence[index][0],\n",
        "      'prefix-2':sentence[index][:2],\n",
        "      'prefix-3':sentence[index][:3],\n",
        "      'prefix-3':sentence[index][:4],\n",
        "      'suffix-1':sentence[index][-1],\n",
        "      'suffix-2':sentence[index][-2:],\n",
        "      'suffix-3':sentence[index][-3:],\n",
        "      'suffix-3':sentence[index][-4:],\n",
        "      'prev_word':'' if index == 0 else sentence[index-1],\n",
        "      'next_word':'' if index == 1 else sentence[index+1],\n",
        "      'has_hyphen': '-' in sentence[index],\n",
        "      'is_numeric': sentence[index].isdigit()\n",
        "  }"
      ],
      "execution_count": null,
      "outputs": []
    },
    {
      "cell_type": "code",
      "metadata": {
        "id": "Nv98mhkQl4gz"
      },
      "source": [
        "def transform_to_dataset(sentences):\n",
        "  X, y = [], []\n",
        "  for sents in sentences:\n",
        "    for index in range(len(sents)):\n",
        "      X.append(extract_features(sents, index))\n",
        "  return X, actual_tags[0: 22000]"
      ],
      "execution_count": null,
      "outputs": []
    },
    {
      "cell_type": "code",
      "metadata": {
        "colab": {
          "base_uri": "https://localhost:8080/"
        },
        "id": "BKiXmGJ7l6HX",
        "outputId": "30b6d73f-fda2-4ad6-f51b-f6ba15d31d60"
      },
      "source": [
        "X_, y_ = transform_to_dataset(removed[0: 11000])\n",
        "for i in range(0, 100):\n",
        "  print(X_[i], \" ----------> \", y_[i])"
      ],
      "execution_count": null,
      "outputs": [
        {
          "output_type": "stream",
          "text": [
            "{'word': 'आग', 'is_first': True, 'is_last': False, 'prefix-1': 'आ', 'prefix-2': 'आग', 'prefix-3': 'आग', 'suffix-1': 'ग', 'suffix-2': 'आग', 'suffix-3': 'आग', 'prev_word': '', 'next_word': 'की', 'has_hyphen': False, 'is_numeric': False}  ---------->  nn\n",
            "{'word': 'की', 'is_first': False, 'is_last': True, 'prefix-1': 'क', 'prefix-2': 'की', 'prefix-3': 'की', 'suffix-1': 'ी', 'suffix-2': 'की', 'suffix-3': 'की', 'prev_word': 'आग', 'next_word': '', 'has_hyphen': False, 'is_numeric': False}  ---------->  psp\n",
            "{'word': 'लिए', 'is_first': True, 'is_last': False, 'prefix-1': 'ल', 'prefix-2': 'लि', 'prefix-3': 'लिए', 'suffix-1': 'ए', 'suffix-2': 'िए', 'suffix-3': 'लिए', 'prev_word': '', 'next_word': 'सांडिआ', 'has_hyphen': False, 'is_numeric': False}  ---------->  psp\n",
            "{'word': 'सांडिआ', 'is_first': False, 'is_last': True, 'prefix-1': 'स', 'prefix-2': 'सा', 'prefix-3': 'सांड', 'suffix-1': 'आ', 'suffix-2': 'िआ', 'suffix-3': 'ंडिआ', 'prev_word': 'लिए', 'next_word': '', 'has_hyphen': False, 'is_numeric': False}  ---------->  nnpc\n",
            "{'word': 'की', 'is_first': True, 'is_last': False, 'prefix-1': 'क', 'prefix-2': 'की', 'prefix-3': 'की', 'suffix-1': 'ी', 'suffix-2': 'की', 'suffix-3': 'की', 'prev_word': '', 'next_word': 'किरण', 'has_hyphen': False, 'is_numeric': False}  ---------->  psp\n",
            "{'word': 'किरण', 'is_first': False, 'is_last': True, 'prefix-1': 'क', 'prefix-2': 'कि', 'prefix-3': 'किरण', 'suffix-1': 'ण', 'suffix-2': 'रण', 'suffix-3': 'किरण', 'prev_word': 'की', 'next_word': '', 'has_hyphen': False, 'is_numeric': False}  ---------->  nnpc\n",
            "{'word': 'जानी', 'is_first': True, 'is_last': False, 'prefix-1': 'ज', 'prefix-2': 'जा', 'prefix-3': 'जानी', 'suffix-1': 'ी', 'suffix-2': 'नी', 'suffix-3': 'जानी', 'prev_word': '', 'next_word': 'चाहिए', 'has_hyphen': False, 'is_numeric': False}  ---------->  vaux\n",
            "{'word': 'चाहिए', 'is_first': False, 'is_last': True, 'prefix-1': 'च', 'prefix-2': 'चा', 'prefix-3': 'चाहि', 'suffix-1': 'ए', 'suffix-2': 'िए', 'suffix-3': 'ाहिए', 'prev_word': 'जानी', 'next_word': '', 'has_hyphen': False, 'is_numeric': False}  ---------->  vaux\n",
            "{'word': 'बिहार', 'is_first': True, 'is_last': False, 'prefix-1': 'ब', 'prefix-2': 'बि', 'prefix-3': 'बिहा', 'suffix-1': 'र', 'suffix-2': 'ार', 'suffix-3': 'िहार', 'prev_word': '', 'next_word': 'की', 'has_hyphen': False, 'is_numeric': False}  ---------->  nnp\n",
            "{'word': 'की', 'is_first': False, 'is_last': True, 'prefix-1': 'क', 'prefix-2': 'की', 'prefix-3': 'की', 'suffix-1': 'ी', 'suffix-2': 'की', 'suffix-3': 'की', 'prev_word': 'बिहार', 'next_word': '', 'has_hyphen': False, 'is_numeric': False}  ---------->  psp\n",
            "{'word': 'मोहम्मद', 'is_first': True, 'is_last': False, 'prefix-1': 'म', 'prefix-2': 'मो', 'prefix-3': 'मोहम', 'suffix-1': 'द', 'suffix-2': 'मद', 'suffix-3': 'म्मद', 'prev_word': '', 'next_word': 'हकीम', 'has_hyphen': False, 'is_numeric': False}  ---------->  nnpc\n",
            "{'word': 'हकीम', 'is_first': False, 'is_last': True, 'prefix-1': 'ह', 'prefix-2': 'हक', 'prefix-3': 'हकीम', 'suffix-1': 'म', 'suffix-2': 'ीम', 'suffix-3': 'हकीम', 'prev_word': 'मोहम्मद', 'next_word': '', 'has_hyphen': False, 'is_numeric': False}  ---------->  nnp\n",
            "{'word': 'ने', 'is_first': True, 'is_last': False, 'prefix-1': 'न', 'prefix-2': 'ने', 'prefix-3': 'ने', 'suffix-1': 'े', 'suffix-2': 'ने', 'suffix-3': 'ने', 'prev_word': '', 'next_word': 'बताया', 'has_hyphen': False, 'is_numeric': False}  ---------->  psp\n",
            "{'word': 'बताया', 'is_first': False, 'is_last': True, 'prefix-1': 'ब', 'prefix-2': 'बत', 'prefix-3': 'बताय', 'suffix-1': 'ा', 'suffix-2': 'या', 'suffix-3': 'ताया', 'prev_word': 'ने', 'next_word': '', 'has_hyphen': False, 'is_numeric': False}  ---------->  vm\n",
            "{'word': 'को', 'is_first': True, 'is_last': False, 'prefix-1': 'क', 'prefix-2': 'को', 'prefix-3': 'को', 'suffix-1': 'ो', 'suffix-2': 'को', 'suffix-3': 'को', 'prev_word': '', 'next_word': 'खत्म', 'has_hyphen': False, 'is_numeric': False}  ---------->  psp\n",
            "{'word': 'खत्म', 'is_first': False, 'is_last': True, 'prefix-1': 'ख', 'prefix-2': 'खत', 'prefix-3': 'खत्म', 'suffix-1': 'म', 'suffix-2': '्म', 'suffix-3': 'खत्म', 'prev_word': 'को', 'next_word': '', 'has_hyphen': False, 'is_numeric': False}  ---------->  jj\n",
            "{'word': 'के', 'is_first': True, 'is_last': False, 'prefix-1': 'क', 'prefix-2': 'के', 'prefix-3': 'के', 'suffix-1': 'े', 'suffix-2': 'के', 'suffix-3': 'के', 'prev_word': '', 'next_word': 'मरने', 'has_hyphen': False, 'is_numeric': False}  ---------->  psp\n",
            "{'word': 'मरने', 'is_first': False, 'is_last': True, 'prefix-1': 'म', 'prefix-2': 'मर', 'prefix-3': 'मरने', 'suffix-1': 'े', 'suffix-2': 'ने', 'suffix-3': 'मरने', 'prev_word': 'के', 'next_word': '', 'has_hyphen': False, 'is_numeric': False}  ---------->  vm\n",
            "{'word': 'कभी', 'is_first': True, 'is_last': False, 'prefix-1': 'क', 'prefix-2': 'कभ', 'prefix-3': 'कभी', 'suffix-1': 'ी', 'suffix-2': 'भी', 'suffix-3': 'कभी', 'prev_word': '', 'next_word': 'कुछ', 'has_hyphen': False, 'is_numeric': False}  ---------->  prp\n",
            "{'word': 'कुछ', 'is_first': False, 'is_last': True, 'prefix-1': 'क', 'prefix-2': 'कु', 'prefix-3': 'कुछ', 'suffix-1': 'छ', 'suffix-2': 'ुछ', 'suffix-3': 'कुछ', 'prev_word': 'कभी', 'next_word': '', 'has_hyphen': False, 'is_numeric': False}  ---------->  qf\n",
            "{'word': 'लादेन', 'is_first': True, 'is_last': False, 'prefix-1': 'ल', 'prefix-2': 'ला', 'prefix-3': 'लादे', 'suffix-1': 'न', 'suffix-2': 'ेन', 'suffix-3': 'ादेन', 'prev_word': '', 'next_word': 'की', 'has_hyphen': False, 'is_numeric': False}  ---------->  nnp\n",
            "{'word': 'की', 'is_first': False, 'is_last': True, 'prefix-1': 'क', 'prefix-2': 'की', 'prefix-3': 'की', 'suffix-1': 'ी', 'suffix-2': 'की', 'suffix-3': 'की', 'prev_word': 'लादेन', 'next_word': '', 'has_hyphen': False, 'is_numeric': False}  ---------->  psp\n",
            "{'word': 'रहे', 'is_first': True, 'is_last': False, 'prefix-1': 'र', 'prefix-2': 'रह', 'prefix-3': 'रहे', 'suffix-1': 'े', 'suffix-2': 'हे', 'suffix-3': 'रहे', 'prev_word': '', 'next_word': 'हैं', 'has_hyphen': False, 'is_numeric': False}  ---------->  vaux\n",
            "{'word': 'हैं', 'is_first': False, 'is_last': True, 'prefix-1': 'ह', 'prefix-2': 'है', 'prefix-3': 'हैं', 'suffix-1': 'ं', 'suffix-2': 'ैं', 'suffix-3': 'हैं', 'prev_word': 'रहे', 'next_word': '', 'has_hyphen': False, 'is_numeric': False}  ---------->  vaux\n",
            "{'word': 'लिए', 'is_first': True, 'is_last': False, 'prefix-1': 'ल', 'prefix-2': 'लि', 'prefix-3': 'लिए', 'suffix-1': 'ए', 'suffix-2': 'िए', 'suffix-3': 'लिए', 'prev_word': '', 'next_word': 'बचाने', 'has_hyphen': False, 'is_numeric': False}  ---------->  psp\n",
            "{'word': 'बचाने', 'is_first': False, 'is_last': True, 'prefix-1': 'ब', 'prefix-2': 'बच', 'prefix-3': 'बचान', 'suffix-1': 'े', 'suffix-2': 'ने', 'suffix-3': 'चाने', 'prev_word': 'लिए', 'next_word': '', 'has_hyphen': False, 'is_numeric': False}  ---------->  vm\n",
            "{'word': 'कांग्रेस', 'is_first': True, 'is_last': False, 'prefix-1': 'क', 'prefix-2': 'का', 'prefix-3': 'कांग', 'suffix-1': 'स', 'suffix-2': 'ेस', 'suffix-3': '्रेस', 'prev_word': '', 'next_word': 'में', 'has_hyphen': False, 'is_numeric': False}  ---------->  nnp\n",
            "{'word': 'में', 'is_first': False, 'is_last': True, 'prefix-1': 'म', 'prefix-2': 'मे', 'prefix-3': 'में', 'suffix-1': 'ं', 'suffix-2': 'ें', 'suffix-3': 'में', 'prev_word': 'कांग्रेस', 'next_word': '', 'has_hyphen': False, 'is_numeric': False}  ---------->  psp\n",
            "{'word': 'युवाओं', 'is_first': True, 'is_last': False, 'prefix-1': 'य', 'prefix-2': 'यु', 'prefix-3': 'युवा', 'suffix-1': 'ं', 'suffix-2': 'ओं', 'suffix-3': 'वाओं', 'prev_word': '', 'next_word': 'की', 'has_hyphen': False, 'is_numeric': False}  ---------->  nn\n",
            "{'word': 'की', 'is_first': False, 'is_last': True, 'prefix-1': 'क', 'prefix-2': 'की', 'prefix-3': 'की', 'suffix-1': 'ी', 'suffix-2': 'की', 'suffix-3': 'की', 'prev_word': 'युवाओं', 'next_word': '', 'has_hyphen': False, 'is_numeric': False}  ---------->  psp\n",
            "{'word': 'जारी', 'is_first': True, 'is_last': False, 'prefix-1': 'ज', 'prefix-2': 'जा', 'prefix-3': 'जारी', 'suffix-1': 'ी', 'suffix-2': 'री', 'suffix-3': 'जारी', 'prev_word': '', 'next_word': 'करने', 'has_hyphen': False, 'is_numeric': False}  ---------->  jj\n",
            "{'word': 'करने', 'is_first': False, 'is_last': True, 'prefix-1': 'क', 'prefix-2': 'कर', 'prefix-3': 'करने', 'suffix-1': 'े', 'suffix-2': 'ने', 'suffix-3': 'करने', 'prev_word': 'जारी', 'next_word': '', 'has_hyphen': False, 'is_numeric': False}  ---------->  vm\n",
            "{'word': 'मसले', 'is_first': True, 'is_last': False, 'prefix-1': 'म', 'prefix-2': 'मस', 'prefix-3': 'मसले', 'suffix-1': 'े', 'suffix-2': 'ले', 'suffix-3': 'मसले', 'prev_word': '', 'next_word': 'को', 'has_hyphen': False, 'is_numeric': False}  ---------->  nn\n",
            "{'word': 'को', 'is_first': False, 'is_last': True, 'prefix-1': 'क', 'prefix-2': 'को', 'prefix-3': 'को', 'suffix-1': 'ो', 'suffix-2': 'को', 'suffix-3': 'को', 'prev_word': 'मसले', 'next_word': '', 'has_hyphen': False, 'is_numeric': False}  ---------->  psp\n",
            "{'word': 'के', 'is_first': True, 'is_last': False, 'prefix-1': 'क', 'prefix-2': 'के', 'prefix-3': 'के', 'suffix-1': 'े', 'suffix-2': 'के', 'suffix-3': 'के', 'prev_word': '', 'next_word': 'लोगों', 'has_hyphen': False, 'is_numeric': False}  ---------->  psp\n",
            "{'word': 'लोगों', 'is_first': False, 'is_last': True, 'prefix-1': 'ल', 'prefix-2': 'लो', 'prefix-3': 'लोगो', 'suffix-1': 'ं', 'suffix-2': 'ों', 'suffix-3': 'ोगों', 'prev_word': 'के', 'next_word': '', 'has_hyphen': False, 'is_numeric': False}  ---------->  nn\n",
            "{'word': 'रही', 'is_first': True, 'is_last': False, 'prefix-1': 'र', 'prefix-2': 'रह', 'prefix-3': 'रही', 'suffix-1': 'ी', 'suffix-2': 'ही', 'suffix-3': 'रही', 'prev_word': '', 'next_word': 'है', 'has_hyphen': False, 'is_numeric': False}  ---------->  vaux\n",
            "{'word': 'है', 'is_first': False, 'is_last': True, 'prefix-1': 'ह', 'prefix-2': 'है', 'prefix-3': 'है', 'suffix-1': 'ै', 'suffix-2': 'है', 'suffix-3': 'है', 'prev_word': 'रही', 'next_word': '', 'has_hyphen': False, 'is_numeric': False}  ---------->  vaux\n",
            "{'word': 'को', 'is_first': True, 'is_last': False, 'prefix-1': 'क', 'prefix-2': 'को', 'prefix-3': 'को', 'suffix-1': 'ो', 'suffix-2': 'को', 'suffix-3': 'को', 'prev_word': '', 'next_word': 'गहरा', 'has_hyphen': False, 'is_numeric': False}  ---------->  psp\n",
            "{'word': 'गहरा', 'is_first': False, 'is_last': True, 'prefix-1': 'ग', 'prefix-2': 'गह', 'prefix-3': 'गहरा', 'suffix-1': 'ा', 'suffix-2': 'रा', 'suffix-3': 'गहरा', 'prev_word': 'को', 'next_word': '', 'has_hyphen': False, 'is_numeric': False}  ---------->  jj\n",
            "{'word': 'अभी', 'is_first': True, 'is_last': False, 'prefix-1': 'अ', 'prefix-2': 'अभ', 'prefix-3': 'अभी', 'suffix-1': 'ी', 'suffix-2': 'भी', 'suffix-3': 'अभी', 'prev_word': '', 'next_word': 'इसका', 'has_hyphen': False, 'is_numeric': False}  ---------->  prp\n",
            "{'word': 'इसका', 'is_first': False, 'is_last': True, 'prefix-1': 'इ', 'prefix-2': 'इस', 'prefix-3': 'इसका', 'suffix-1': 'ा', 'suffix-2': 'का', 'suffix-3': 'इसका', 'prev_word': 'अभी', 'next_word': '', 'has_hyphen': False, 'is_numeric': False}  ---------->  prp\n",
            "{'word': 'फांसी', 'is_first': True, 'is_last': False, 'prefix-1': 'फ', 'prefix-2': 'फा', 'prefix-3': 'फांस', 'suffix-1': 'ी', 'suffix-2': 'सी', 'suffix-3': 'ांसी', 'prev_word': '', 'next_word': 'लग', 'has_hyphen': False, 'is_numeric': False}  ---------->  nn\n",
            "{'word': 'लग', 'is_first': False, 'is_last': True, 'prefix-1': 'ल', 'prefix-2': 'लग', 'prefix-3': 'लग', 'suffix-1': 'ग', 'suffix-2': 'लग', 'suffix-3': 'लग', 'prev_word': 'फांसी', 'next_word': '', 'has_hyphen': False, 'is_numeric': False}  ---------->  vm\n",
            "{'word': 'चढ़त', 'is_first': True, 'is_last': False, 'prefix-1': 'च', 'prefix-2': 'चढ़', 'prefix-3': 'चढ़त', 'suffix-1': 'त', 'suffix-2': 'ढ़त', 'suffix-3': 'चढ़त', 'prev_word': '', 'next_word': 'के', 'has_hyphen': False, 'is_numeric': False}  ---------->  nn\n",
            "{'word': 'के', 'is_first': False, 'is_last': True, 'prefix-1': 'क', 'prefix-2': 'के', 'prefix-3': 'के', 'suffix-1': 'े', 'suffix-2': 'के', 'suffix-3': 'के', 'prev_word': 'चढ़त', 'next_word': '', 'has_hyphen': False, 'is_numeric': False}  ---------->  psp\n",
            "{'word': 'साथ', 'is_first': True, 'is_last': False, 'prefix-1': 'स', 'prefix-2': 'सा', 'prefix-3': 'साथ', 'suffix-1': 'थ', 'suffix-2': 'ाथ', 'suffix-3': 'साथ', 'prev_word': '', 'next_word': 'समूचे', 'has_hyphen': False, 'is_numeric': False}  ---------->  nst\n",
            "{'word': 'समूचे', 'is_first': False, 'is_last': True, 'prefix-1': 'स', 'prefix-2': 'सम', 'prefix-3': 'समूच', 'suffix-1': 'े', 'suffix-2': 'चे', 'suffix-3': 'मूचे', 'prev_word': 'साथ', 'next_word': '', 'has_hyphen': False, 'is_numeric': False}  ---------->  jj\n",
            "{'word': 'घुसा', 'is_first': True, 'is_last': False, 'prefix-1': 'घ', 'prefix-2': 'घु', 'prefix-3': 'घुसा', 'suffix-1': 'ा', 'suffix-2': 'सा', 'suffix-3': 'घुसा', 'prev_word': '', 'next_word': 'NULL', 'has_hyphen': False, 'is_numeric': False}  ---------->  vm\n",
            "{'word': 'NULL', 'is_first': False, 'is_last': True, 'prefix-1': 'N', 'prefix-2': 'NU', 'prefix-3': 'NULL', 'suffix-1': 'L', 'suffix-2': 'LL', 'suffix-3': 'NULL', 'prev_word': 'घुसा', 'next_word': '', 'has_hyphen': False, 'is_numeric': False}  ---------->  cc\n",
            "{'word': 'सफल', 'is_first': True, 'is_last': False, 'prefix-1': 'स', 'prefix-2': 'सफ', 'prefix-3': 'सफल', 'suffix-1': 'ल', 'suffix-2': 'फल', 'suffix-3': 'सफल', 'prev_word': '', 'next_word': 'रहे', 'has_hyphen': False, 'is_numeric': False}  ---------->  jj\n",
            "{'word': 'रहे', 'is_first': False, 'is_last': True, 'prefix-1': 'र', 'prefix-2': 'रह', 'prefix-3': 'रहे', 'suffix-1': 'े', 'suffix-2': 'हे', 'suffix-3': 'रहे', 'prev_word': 'सफल', 'next_word': '', 'has_hyphen': False, 'is_numeric': False}  ---------->  vm\n",
            "{'word': '२६९९.२०', 'is_first': True, 'is_last': False, 'prefix-1': '२', 'prefix-2': '२६', 'prefix-3': '२६९९', 'suffix-1': '०', 'suffix-2': '२०', 'suffix-3': '९.२०', 'prev_word': '', 'next_word': 'करोड़', 'has_hyphen': False, 'is_numeric': False}  ---------->  qcc\n",
            "{'word': 'करोड़', 'is_first': False, 'is_last': True, 'prefix-1': 'क', 'prefix-2': 'कर', 'prefix-3': 'करोड़', 'suffix-1': 'ड़', 'suffix-2': 'ोड़', 'suffix-3': 'करोड़', 'prev_word': '२६९९.२०', 'next_word': '', 'has_hyphen': False, 'is_numeric': False}  ---------->  qc\n",
            "{'word': 'केंद्र', 'is_first': True, 'is_last': False, 'prefix-1': 'क', 'prefix-2': 'के', 'prefix-3': 'केंद', 'suffix-1': 'र', 'suffix-2': '्र', 'suffix-3': 'ंद्र', 'prev_word': '', 'next_word': 'के', 'has_hyphen': False, 'is_numeric': False}  ---------->  nnp\n",
            "{'word': 'के', 'is_first': False, 'is_last': True, 'prefix-1': 'क', 'prefix-2': 'के', 'prefix-3': 'के', 'suffix-1': 'े', 'suffix-2': 'के', 'suffix-3': 'के', 'prev_word': 'केंद्र', 'next_word': '', 'has_hyphen': False, 'is_numeric': False}  ---------->  psp\n",
            "{'word': 'भारी', 'is_first': True, 'is_last': False, 'prefix-1': 'भ', 'prefix-2': 'भा', 'prefix-3': 'भारी', 'suffix-1': 'ी', 'suffix-2': 'री', 'suffix-3': 'भारी', 'prev_word': '', 'next_word': 'क्षति', 'has_hyphen': False, 'is_numeric': False}  ---------->  jj\n",
            "{'word': 'क्षति', 'is_first': False, 'is_last': True, 'prefix-1': 'क', 'prefix-2': 'क्', 'prefix-3': 'क्षत', 'suffix-1': 'ि', 'suffix-2': 'ति', 'suffix-3': '्षति', 'prev_word': 'भारी', 'next_word': '', 'has_hyphen': False, 'is_numeric': False}  ---------->  nn\n",
            "{'word': 'को', 'is_first': True, 'is_last': False, 'prefix-1': 'क', 'prefix-2': 'को', 'prefix-3': 'को', 'suffix-1': 'ो', 'suffix-2': 'को', 'suffix-3': 'को', 'prev_word': '', 'next_word': 'कम', 'has_hyphen': False, 'is_numeric': False}  ---------->  psp\n",
            "{'word': 'कम', 'is_first': False, 'is_last': True, 'prefix-1': 'क', 'prefix-2': 'कम', 'prefix-3': 'कम', 'suffix-1': 'म', 'suffix-2': 'कम', 'suffix-3': 'कम', 'prev_word': 'को', 'next_word': '', 'has_hyphen': False, 'is_numeric': False}  ---------->  qf\n",
            "{'word': 'और', 'is_first': True, 'is_last': False, 'prefix-1': 'औ', 'prefix-2': 'और', 'prefix-3': 'और', 'suffix-1': 'र', 'suffix-2': 'और', 'suffix-3': 'और', 'prev_word': '', 'next_word': 'पंजाब', 'has_hyphen': False, 'is_numeric': False}  ---------->  cc\n",
            "{'word': 'पंजाब', 'is_first': False, 'is_last': True, 'prefix-1': 'प', 'prefix-2': 'पं', 'prefix-3': 'पंजा', 'suffix-1': 'ब', 'suffix-2': 'ाब', 'suffix-3': 'ंजाब', 'prev_word': 'और', 'next_word': '', 'has_hyphen': False, 'is_numeric': False}  ---------->  nnp\n",
            "{'word': 'पूरा', 'is_first': True, 'is_last': False, 'prefix-1': 'प', 'prefix-2': 'पू', 'prefix-3': 'पूरा', 'suffix-1': 'ा', 'suffix-2': 'रा', 'suffix-3': 'पूरा', 'prev_word': '', 'next_word': 'आनंद', 'has_hyphen': False, 'is_numeric': False}  ---------->  jj\n",
            "{'word': 'आनंद', 'is_first': False, 'is_last': True, 'prefix-1': 'आ', 'prefix-2': 'आन', 'prefix-3': 'आनंद', 'suffix-1': 'द', 'suffix-2': 'ंद', 'suffix-3': 'आनंद', 'prev_word': 'पूरा', 'next_word': '', 'has_hyphen': False, 'is_numeric': False}  ---------->  nn\n",
            "{'word': 'साल', 'is_first': True, 'is_last': False, 'prefix-1': 'स', 'prefix-2': 'सा', 'prefix-3': 'साल', 'suffix-1': 'ल', 'suffix-2': 'ाल', 'suffix-3': 'साल', 'prev_word': '', 'next_word': 'बाद', 'has_hyphen': False, 'is_numeric': False}  ---------->  nn\n",
            "{'word': 'बाद', 'is_first': False, 'is_last': True, 'prefix-1': 'ब', 'prefix-2': 'बा', 'prefix-3': 'बाद', 'suffix-1': 'द', 'suffix-2': 'ाद', 'suffix-3': 'बाद', 'prev_word': 'साल', 'next_word': '', 'has_hyphen': False, 'is_numeric': False}  ---------->  nst\n",
            "{'word': '३६', 'is_first': True, 'is_last': False, 'prefix-1': '३', 'prefix-2': '३६', 'prefix-3': '३६', 'suffix-1': '६', 'suffix-2': '३६', 'suffix-3': '३६', 'prev_word': '', 'next_word': 'लाख', 'has_hyphen': False, 'is_numeric': True}  ---------->  qcc\n",
            "{'word': 'लाख', 'is_first': False, 'is_last': True, 'prefix-1': 'ल', 'prefix-2': 'ला', 'prefix-3': 'लाख', 'suffix-1': 'ख', 'suffix-2': 'ाख', 'suffix-3': 'लाख', 'prev_word': '३६', 'next_word': '', 'has_hyphen': False, 'is_numeric': False}  ---------->  qc\n",
            "{'word': 'दिनों', 'is_first': True, 'is_last': False, 'prefix-1': 'द', 'prefix-2': 'दि', 'prefix-3': 'दिनो', 'suffix-1': 'ं', 'suffix-2': 'ों', 'suffix-3': 'िनों', 'prev_word': '', 'next_word': 'में', 'has_hyphen': False, 'is_numeric': False}  ---------->  nn\n",
            "{'word': 'में', 'is_first': False, 'is_last': True, 'prefix-1': 'म', 'prefix-2': 'मे', 'prefix-3': 'में', 'suffix-1': 'ं', 'suffix-2': 'ें', 'suffix-3': 'में', 'prev_word': 'दिनों', 'next_word': '', 'has_hyphen': False, 'is_numeric': False}  ---------->  psp\n",
            "{'word': 'दूर', 'is_first': True, 'is_last': False, 'prefix-1': 'द', 'prefix-2': 'दू', 'prefix-3': 'दूर', 'suffix-1': 'र', 'suffix-2': 'ूर', 'suffix-3': 'दूर', 'prev_word': '', 'next_word': 'किया', 'has_hyphen': False, 'is_numeric': False}  ---------->  nst\n",
            "{'word': 'किया', 'is_first': False, 'is_last': True, 'prefix-1': 'क', 'prefix-2': 'कि', 'prefix-3': 'किया', 'suffix-1': 'ा', 'suffix-2': 'या', 'suffix-3': 'किया', 'prev_word': 'दूर', 'next_word': '', 'has_hyphen': False, 'is_numeric': False}  ---------->  vm\n",
            "{'word': 'पर', 'is_first': True, 'is_last': False, 'prefix-1': 'प', 'prefix-2': 'पर', 'prefix-3': 'पर', 'suffix-1': 'र', 'suffix-2': 'पर', 'suffix-3': 'पर', 'prev_word': '', 'next_word': 'अतिरिक्त', 'has_hyphen': False, 'is_numeric': False}  ---------->  psp\n",
            "{'word': 'अतिरिक्त', 'is_first': False, 'is_last': True, 'prefix-1': 'अ', 'prefix-2': 'अत', 'prefix-3': 'अतिर', 'suffix-1': 'त', 'suffix-2': '्त', 'suffix-3': 'िक्त', 'prev_word': 'पर', 'next_word': '', 'has_hyphen': False, 'is_numeric': False}  ---------->  jj\n",
            "{'word': 'फैसले', 'is_first': True, 'is_last': False, 'prefix-1': 'फ', 'prefix-2': 'फै', 'prefix-3': 'फैसल', 'suffix-1': 'े', 'suffix-2': 'ले', 'suffix-3': 'ैसले', 'prev_word': '', 'next_word': 'से', 'has_hyphen': False, 'is_numeric': False}  ---------->  nn\n",
            "{'word': 'से', 'is_first': False, 'is_last': True, 'prefix-1': 'स', 'prefix-2': 'से', 'prefix-3': 'से', 'suffix-1': 'े', 'suffix-2': 'से', 'suffix-3': 'से', 'prev_word': 'फैसले', 'next_word': '', 'has_hyphen': False, 'is_numeric': False}  ---------->  psp\n",
            "{'word': 'पर', 'is_first': True, 'is_last': False, 'prefix-1': 'प', 'prefix-2': 'पर', 'prefix-3': 'पर', 'suffix-1': 'र', 'suffix-2': 'पर', 'suffix-3': 'पर', 'prev_word': '', 'next_word': 'प्रतिक्रिया', 'has_hyphen': False, 'is_numeric': False}  ---------->  psp\n",
            "{'word': 'प्रतिक्रिया', 'is_first': False, 'is_last': True, 'prefix-1': 'प', 'prefix-2': 'प्', 'prefix-3': 'प्रत', 'suffix-1': 'ा', 'suffix-2': 'या', 'suffix-3': 'रिया', 'prev_word': 'पर', 'next_word': '', 'has_hyphen': False, 'is_numeric': False}  ---------->  nn\n",
            "{'word': 'वाम', 'is_first': True, 'is_last': False, 'prefix-1': 'व', 'prefix-2': 'वा', 'prefix-3': 'वाम', 'suffix-1': 'म', 'suffix-2': 'ाम', 'suffix-3': 'वाम', 'prev_word': '', 'next_word': 'मतों', 'has_hyphen': False, 'is_numeric': False}  ---------->  nnc\n",
            "{'word': 'मतों', 'is_first': False, 'is_last': True, 'prefix-1': 'म', 'prefix-2': 'मत', 'prefix-3': 'मतों', 'suffix-1': 'ं', 'suffix-2': 'ों', 'suffix-3': 'मतों', 'prev_word': 'वाम', 'next_word': '', 'has_hyphen': False, 'is_numeric': False}  ---------->  nn\n",
            "{'word': 'लेकिन', 'is_first': True, 'is_last': False, 'prefix-1': 'ल', 'prefix-2': 'ले', 'prefix-3': 'लेकि', 'suffix-1': 'न', 'suffix-2': 'िन', 'suffix-3': 'ेकिन', 'prev_word': '', 'next_word': 'यहां', 'has_hyphen': False, 'is_numeric': False}  ---------->  cc\n",
            "{'word': 'यहां', 'is_first': False, 'is_last': True, 'prefix-1': 'य', 'prefix-2': 'यह', 'prefix-3': 'यहां', 'suffix-1': 'ं', 'suffix-2': 'ां', 'suffix-3': 'यहां', 'prev_word': 'लेकिन', 'next_word': '', 'has_hyphen': False, 'is_numeric': False}  ---------->  prp\n",
            "{'word': 'न्यायाधीश', 'is_first': True, 'is_last': False, 'prefix-1': 'न', 'prefix-2': 'न्', 'prefix-3': 'न्या', 'suffix-1': 'श', 'suffix-2': 'ीश', 'suffix-3': 'ाधीश', 'prev_word': '', 'next_word': 'नागेंद्र', 'has_hyphen': False, 'is_numeric': False}  ---------->  nnc\n",
            "{'word': 'नागेंद्र', 'is_first': False, 'is_last': True, 'prefix-1': 'न', 'prefix-2': 'ना', 'prefix-3': 'नागे', 'suffix-1': 'र', 'suffix-2': '्र', 'suffix-3': 'ंद्र', 'prev_word': 'न्यायाधीश', 'next_word': '', 'has_hyphen': False, 'is_numeric': False}  ---------->  nnpc\n",
            "{'word': 'लिए', 'is_first': True, 'is_last': False, 'prefix-1': 'ल', 'prefix-2': 'लि', 'prefix-3': 'लिए', 'suffix-1': 'ए', 'suffix-2': 'िए', 'suffix-3': 'लिए', 'prev_word': '', 'next_word': 'खास', 'has_hyphen': False, 'is_numeric': False}  ---------->  psp\n",
            "{'word': 'खास', 'is_first': False, 'is_last': True, 'prefix-1': 'ख', 'prefix-2': 'खा', 'prefix-3': 'खास', 'suffix-1': 'स', 'suffix-2': 'ास', 'suffix-3': 'खास', 'prev_word': 'लिए', 'next_word': '', 'has_hyphen': False, 'is_numeric': False}  ---------->  jj\n",
            "{'word': 'और', 'is_first': True, 'is_last': False, 'prefix-1': 'औ', 'prefix-2': 'और', 'prefix-3': 'और', 'suffix-1': 'र', 'suffix-2': 'और', 'suffix-3': 'और', 'prev_word': '', 'next_word': 'सोमवार', 'has_hyphen': False, 'is_numeric': False}  ---------->  cc\n",
            "{'word': 'सोमवार', 'is_first': False, 'is_last': True, 'prefix-1': 'स', 'prefix-2': 'सो', 'prefix-3': 'सोमव', 'suffix-1': 'र', 'suffix-2': 'ार', 'suffix-3': 'मवार', 'prev_word': 'और', 'next_word': '', 'has_hyphen': False, 'is_numeric': False}  ---------->  nnp\n",
            "{'word': 'सामाजिक', 'is_first': True, 'is_last': False, 'prefix-1': 'स', 'prefix-2': 'सा', 'prefix-3': 'सामा', 'suffix-1': 'क', 'suffix-2': 'िक', 'suffix-3': 'ाजिक', 'prev_word': '', 'next_word': 'कार्यकर्ता', 'has_hyphen': False, 'is_numeric': False}  ---------->  jj\n",
            "{'word': 'कार्यकर्ता', 'is_first': False, 'is_last': True, 'prefix-1': 'क', 'prefix-2': 'का', 'prefix-3': 'कार्', 'suffix-1': 'ा', 'suffix-2': 'ता', 'suffix-3': 'र्ता', 'prev_word': 'सामाजिक', 'next_word': '', 'has_hyphen': False, 'is_numeric': False}  ---------->  nn\n",
            "{'word': 'छोटी', 'is_first': True, 'is_last': False, 'prefix-1': 'छ', 'prefix-2': 'छो', 'prefix-3': 'छोटी', 'suffix-1': 'ी', 'suffix-2': 'टी', 'suffix-3': 'छोटी', 'prev_word': '', 'next_word': 'बड़ी', 'has_hyphen': False, 'is_numeric': False}  ---------->  jjc\n",
            "{'word': 'बड़ी', 'is_first': False, 'is_last': True, 'prefix-1': 'ब', 'prefix-2': 'बड', 'prefix-3': 'बड़ी', 'suffix-1': 'ी', 'suffix-2': '़ी', 'suffix-3': 'बड़ी', 'prev_word': 'छोटी', 'next_word': '', 'has_hyphen': False, 'is_numeric': False}  ---------->  jj\n",
            "{'word': 'उत्पादन', 'is_first': True, 'is_last': False, 'prefix-1': 'उ', 'prefix-2': 'उत', 'prefix-3': 'उत्प', 'suffix-1': 'न', 'suffix-2': 'दन', 'suffix-3': 'पादन', 'prev_word': '', 'next_word': 'को', 'has_hyphen': False, 'is_numeric': False}  ---------->  nn\n",
            "{'word': 'को', 'is_first': False, 'is_last': True, 'prefix-1': 'क', 'prefix-2': 'को', 'prefix-3': 'को', 'suffix-1': 'ो', 'suffix-2': 'को', 'suffix-3': 'को', 'prev_word': 'उत्पादन', 'next_word': '', 'has_hyphen': False, 'is_numeric': False}  ---------->  psp\n",
            "{'word': 'के', 'is_first': True, 'is_last': False, 'prefix-1': 'क', 'prefix-2': 'के', 'prefix-3': 'के', 'suffix-1': 'े', 'suffix-2': 'के', 'suffix-3': 'के', 'prev_word': '', 'next_word': 'अनुपात', 'has_hyphen': False, 'is_numeric': False}  ---------->  psp\n",
            "{'word': 'अनुपात', 'is_first': False, 'is_last': True, 'prefix-1': 'अ', 'prefix-2': 'अन', 'prefix-3': 'अनुप', 'suffix-1': 'त', 'suffix-2': 'ात', 'suffix-3': 'ुपात', 'prev_word': 'के', 'next_word': '', 'has_hyphen': False, 'is_numeric': False}  ---------->  nn\n",
            "{'word': 'हमलों', 'is_first': True, 'is_last': False, 'prefix-1': 'ह', 'prefix-2': 'हम', 'prefix-3': 'हमलो', 'suffix-1': 'ं', 'suffix-2': 'ों', 'suffix-3': 'मलों', 'prev_word': '', 'next_word': 'की', 'has_hyphen': False, 'is_numeric': False}  ---------->  nn\n",
            "{'word': 'की', 'is_first': False, 'is_last': True, 'prefix-1': 'क', 'prefix-2': 'की', 'prefix-3': 'की', 'suffix-1': 'ी', 'suffix-2': 'की', 'suffix-3': 'की', 'prev_word': 'हमलों', 'next_word': '', 'has_hyphen': False, 'is_numeric': False}  ---------->  psp\n",
            "{'word': 'उन्हें', 'is_first': True, 'is_last': False, 'prefix-1': 'उ', 'prefix-2': 'उन', 'prefix-3': 'उन्ह', 'suffix-1': 'ं', 'suffix-2': 'ें', 'suffix-3': '्हें', 'prev_word': '', 'next_word': 'इस', 'has_hyphen': False, 'is_numeric': False}  ---------->  prp\n",
            "{'word': 'इस', 'is_first': False, 'is_last': True, 'prefix-1': 'इ', 'prefix-2': 'इस', 'prefix-3': 'इस', 'suffix-1': 'स', 'suffix-2': 'इस', 'suffix-3': 'इस', 'prev_word': 'उन्हें', 'next_word': '', 'has_hyphen': False, 'is_numeric': False}  ---------->  dem\n"
          ],
          "name": "stdout"
        }
      ]
    },
    {
      "cell_type": "code",
      "metadata": {
        "colab": {
          "base_uri": "https://localhost:8080/"
        },
        "id": "vavmRsVhl9D9",
        "outputId": "df607112-6efc-41c6-ee7c-a37067b2c7ca"
      },
      "source": [
        "print(len(X_), len(y_))"
      ],
      "execution_count": null,
      "outputs": [
        {
          "output_type": "stream",
          "text": [
            "22000 22000\n"
          ],
          "name": "stdout"
        }
      ]
    },
    {
      "cell_type": "code",
      "metadata": {
        "colab": {
          "base_uri": "https://localhost:8080/"
        },
        "id": "_RoAVpLal9lb",
        "outputId": "0473cfd5-e58b-4d2f-a64c-91cd9e42f9b8"
      },
      "source": [
        "print(y_[0: 10])\n",
        "print(actual_tags[0: 10])"
      ],
      "execution_count": null,
      "outputs": [
        {
          "output_type": "stream",
          "text": [
            "['nn', 'psp', 'psp', 'nnpc', 'psp', 'nnpc', 'vaux', 'vaux', 'nnp', 'psp']\n",
            "['nn', 'psp', 'psp', 'nnpc', 'psp', 'nnpc', 'vaux', 'vaux', 'nnp', 'psp']\n"
          ],
          "name": "stdout"
        }
      ]
    },
    {
      "cell_type": "code",
      "metadata": {
        "id": "Bj8jmZFPl_nR"
      },
      "source": [
        "X_train, X_test, y_train, y_test = train_test_split(X_, y_, train_size=0.75)"
      ],
      "execution_count": null,
      "outputs": []
    },
    {
      "cell_type": "code",
      "metadata": {
        "id": "tKj3GLzbmDOj"
      },
      "source": [
        "dict_vectorizer = DictVectorizer(sparse=False)\n",
        "dict_vectorizer.fit(X_)\n",
        "X_train = dict_vectorizer.transform(X_train)\n",
        "X_test = dict_vectorizer.transform(X_test)"
      ],
      "execution_count": null,
      "outputs": []
    },
    {
      "cell_type": "code",
      "metadata": {
        "id": "tNz1eRZUmE4t"
      },
      "source": [
        "X_ = dict_vectorizer.transform(X_)"
      ],
      "execution_count": null,
      "outputs": []
    },
    {
      "cell_type": "code",
      "metadata": {
        "id": "c7I_yPs0lVWF"
      },
      "source": [
        "label_encoder = LabelEncoder()\n",
        "label_encoder.fit(y_)\n",
        "y_train = label_encoder.transform(y_train)\n",
        "y_train_cat = to_categorical(y_train, num_classes=len(label_encoder.classes_))"
      ],
      "execution_count": null,
      "outputs": []
    },
    {
      "cell_type": "code",
      "metadata": {
        "id": "nHAyo9xWlQ5G"
      },
      "source": [
        "model_deep = Sequential()\n",
        "model_deep.add(Dense(1024, activation='relu'))\n",
        "model_deep.add(Dropout(0.2))\n",
        "model_deep.add(BatchNormalization())\n",
        "model_deep.add(Dense(512, activation='relu'))\n",
        "model_deep.add(Dropout(0.2))\n",
        "model_deep.add(Dense(256, activation='relu'))\n",
        "model_deep.add(Dropout(0.2))\n",
        "model_deep.add(BatchNormalization())\n",
        "model_deep.add(Dense(128, activation='relu'))\n",
        "model_deep.add(Dropout(0.2))\n",
        "model_deep.add(Dense(len(label_encoder.classes_), activation='softmax'))"
      ],
      "execution_count": null,
      "outputs": []
    },
    {
      "cell_type": "code",
      "metadata": {
        "id": "5uosm0GjlRmp"
      },
      "source": [
        "model_deep.compile(loss='categorical_crossentropy', optimizer='adam', metrics=['accuracy'])"
      ],
      "execution_count": null,
      "outputs": []
    },
    {
      "cell_type": "code",
      "metadata": {
        "colab": {
          "base_uri": "https://localhost:8080/"
        },
        "id": "sQT7Btc_nCj4",
        "outputId": "25ffeab5-5fec-41e9-ee35-1c347ad45b1f"
      },
      "source": [
        "model_deep.fit(X_train, y_train_cat, validation_split=0.2, epochs=50, batch_size=128)"
      ],
      "execution_count": null,
      "outputs": [
        {
          "output_type": "stream",
          "text": [
            "Epoch 1/50\n",
            "104/104 [==============================] - 31s 295ms/step - loss: 1.1723 - accuracy: 0.6736 - val_loss: 2.4328 - val_accuracy: 0.2330\n",
            "Epoch 2/50\n",
            "104/104 [==============================] - 30s 290ms/step - loss: 0.4240 - accuracy: 0.8755 - val_loss: 2.1762 - val_accuracy: 0.2752\n",
            "Epoch 3/50\n",
            "104/104 [==============================] - 30s 289ms/step - loss: 0.2520 - accuracy: 0.9228 - val_loss: 1.3639 - val_accuracy: 0.5721\n",
            "Epoch 4/50\n",
            "104/104 [==============================] - 30s 290ms/step - loss: 0.1799 - accuracy: 0.9430 - val_loss: 0.7519 - val_accuracy: 0.7815\n",
            "Epoch 5/50\n",
            "104/104 [==============================] - 30s 291ms/step - loss: 0.1457 - accuracy: 0.9536 - val_loss: 0.7128 - val_accuracy: 0.8121\n",
            "Epoch 6/50\n",
            "104/104 [==============================] - 30s 290ms/step - loss: 0.1210 - accuracy: 0.9601 - val_loss: 0.7814 - val_accuracy: 0.8200\n",
            "Epoch 7/50\n",
            "104/104 [==============================] - 30s 290ms/step - loss: 0.0995 - accuracy: 0.9689 - val_loss: 0.8483 - val_accuracy: 0.8197\n",
            "Epoch 8/50\n",
            "104/104 [==============================] - 30s 290ms/step - loss: 0.0921 - accuracy: 0.9690 - val_loss: 0.8672 - val_accuracy: 0.8248\n",
            "Epoch 9/50\n",
            "104/104 [==============================] - 30s 291ms/step - loss: 0.0764 - accuracy: 0.9740 - val_loss: 0.9111 - val_accuracy: 0.8194\n",
            "Epoch 10/50\n",
            "104/104 [==============================] - 30s 292ms/step - loss: 0.0698 - accuracy: 0.9780 - val_loss: 1.0067 - val_accuracy: 0.8173\n",
            "Epoch 11/50\n",
            "104/104 [==============================] - 30s 292ms/step - loss: 0.0693 - accuracy: 0.9782 - val_loss: 0.9390 - val_accuracy: 0.8224\n",
            "Epoch 12/50\n",
            "104/104 [==============================] - 30s 291ms/step - loss: 0.0530 - accuracy: 0.9818 - val_loss: 1.0064 - val_accuracy: 0.8255\n",
            "Epoch 13/50\n",
            "104/104 [==============================] - 30s 292ms/step - loss: 0.0533 - accuracy: 0.9832 - val_loss: 1.0067 - val_accuracy: 0.8267\n",
            "Epoch 14/50\n",
            "104/104 [==============================] - 30s 291ms/step - loss: 0.0489 - accuracy: 0.9846 - val_loss: 0.9397 - val_accuracy: 0.8218\n",
            "Epoch 15/50\n",
            "104/104 [==============================] - 30s 291ms/step - loss: 0.0416 - accuracy: 0.9857 - val_loss: 1.0127 - val_accuracy: 0.8239\n",
            "Epoch 16/50\n",
            "104/104 [==============================] - 32s 305ms/step - loss: 0.0412 - accuracy: 0.9853 - val_loss: 1.0367 - val_accuracy: 0.8206\n",
            "Epoch 17/50\n",
            "104/104 [==============================] - 32s 304ms/step - loss: 0.0444 - accuracy: 0.9861 - val_loss: 1.0622 - val_accuracy: 0.8194\n",
            "Epoch 18/50\n",
            "104/104 [==============================] - 30s 292ms/step - loss: 0.0384 - accuracy: 0.9862 - val_loss: 1.1121 - val_accuracy: 0.8200\n",
            "Epoch 19/50\n",
            "104/104 [==============================] - 30s 292ms/step - loss: 0.0438 - accuracy: 0.9855 - val_loss: 1.0824 - val_accuracy: 0.8242\n",
            "Epoch 20/50\n",
            "104/104 [==============================] - 30s 292ms/step - loss: 0.0368 - accuracy: 0.9873 - val_loss: 1.0998 - val_accuracy: 0.8215\n",
            "Epoch 21/50\n",
            "104/104 [==============================] - 30s 292ms/step - loss: 0.0390 - accuracy: 0.9871 - val_loss: 1.1374 - val_accuracy: 0.8142\n",
            "Epoch 22/50\n",
            "104/104 [==============================] - 30s 291ms/step - loss: 0.0398 - accuracy: 0.9863 - val_loss: 1.0858 - val_accuracy: 0.8209\n",
            "Epoch 23/50\n",
            "104/104 [==============================] - 30s 292ms/step - loss: 0.0390 - accuracy: 0.9868 - val_loss: 1.1076 - val_accuracy: 0.8176\n",
            "Epoch 24/50\n",
            "104/104 [==============================] - 31s 295ms/step - loss: 0.0336 - accuracy: 0.9872 - val_loss: 1.1432 - val_accuracy: 0.8158\n",
            "Epoch 25/50\n",
            "104/104 [==============================] - 30s 292ms/step - loss: 0.0362 - accuracy: 0.9874 - val_loss: 1.1593 - val_accuracy: 0.8139\n",
            "Epoch 26/50\n",
            "104/104 [==============================] - 30s 292ms/step - loss: 0.0391 - accuracy: 0.9867 - val_loss: 1.1350 - val_accuracy: 0.8200\n",
            "Epoch 27/50\n",
            "104/104 [==============================] - 30s 291ms/step - loss: 0.0358 - accuracy: 0.9870 - val_loss: 1.0937 - val_accuracy: 0.8227\n",
            "Epoch 28/50\n",
            "104/104 [==============================] - 30s 292ms/step - loss: 0.0360 - accuracy: 0.9886 - val_loss: 1.1211 - val_accuracy: 0.8191\n",
            "Epoch 29/50\n",
            "104/104 [==============================] - 30s 292ms/step - loss: 0.0265 - accuracy: 0.9896 - val_loss: 1.1719 - val_accuracy: 0.8215\n",
            "Epoch 30/50\n",
            "104/104 [==============================] - 30s 293ms/step - loss: 0.0332 - accuracy: 0.9882 - val_loss: 1.1262 - val_accuracy: 0.8230\n",
            "Epoch 31/50\n",
            "104/104 [==============================] - 30s 292ms/step - loss: 0.0302 - accuracy: 0.9895 - val_loss: 1.1448 - val_accuracy: 0.8221\n",
            "Epoch 32/50\n",
            "104/104 [==============================] - 31s 294ms/step - loss: 0.0341 - accuracy: 0.9878 - val_loss: 1.1551 - val_accuracy: 0.8200\n",
            "Epoch 33/50\n",
            "104/104 [==============================] - 30s 292ms/step - loss: 0.0247 - accuracy: 0.9903 - val_loss: 1.1914 - val_accuracy: 0.8194\n",
            "Epoch 34/50\n",
            "104/104 [==============================] - 30s 291ms/step - loss: 0.0213 - accuracy: 0.9907 - val_loss: 1.2310 - val_accuracy: 0.8179\n",
            "Epoch 35/50\n",
            "104/104 [==============================] - 30s 292ms/step - loss: 0.0289 - accuracy: 0.9888 - val_loss: 1.2209 - val_accuracy: 0.8176\n",
            "Epoch 36/50\n",
            "104/104 [==============================] - 30s 292ms/step - loss: 0.0291 - accuracy: 0.9892 - val_loss: 1.3157 - val_accuracy: 0.8121\n",
            "Epoch 37/50\n",
            "104/104 [==============================] - 32s 304ms/step - loss: 0.0374 - accuracy: 0.9874 - val_loss: 1.2004 - val_accuracy: 0.8179\n",
            "Epoch 38/50\n",
            "104/104 [==============================] - 34s 326ms/step - loss: 0.0320 - accuracy: 0.9883 - val_loss: 1.2259 - val_accuracy: 0.8176\n",
            "Epoch 39/50\n",
            "104/104 [==============================] - 34s 328ms/step - loss: 0.0355 - accuracy: 0.9873 - val_loss: 1.2535 - val_accuracy: 0.8142\n",
            "Epoch 40/50\n",
            "104/104 [==============================] - 34s 325ms/step - loss: 0.0343 - accuracy: 0.9884 - val_loss: 1.3360 - val_accuracy: 0.8158\n",
            "Epoch 41/50\n",
            "104/104 [==============================] - 34s 326ms/step - loss: 0.0506 - accuracy: 0.9844 - val_loss: 1.1778 - val_accuracy: 0.8200\n",
            "Epoch 42/50\n",
            "104/104 [==============================] - 34s 327ms/step - loss: 0.0381 - accuracy: 0.9879 - val_loss: 1.1441 - val_accuracy: 0.8233\n",
            "Epoch 43/50\n",
            "104/104 [==============================] - 33s 322ms/step - loss: 0.0302 - accuracy: 0.9878 - val_loss: 1.2450 - val_accuracy: 0.8197\n",
            "Epoch 44/50\n",
            "104/104 [==============================] - 34s 323ms/step - loss: 0.0378 - accuracy: 0.9861 - val_loss: 1.2257 - val_accuracy: 0.8182\n",
            "Epoch 45/50\n",
            "104/104 [==============================] - 33s 315ms/step - loss: 0.0396 - accuracy: 0.9873 - val_loss: 1.2236 - val_accuracy: 0.8179\n",
            "Epoch 46/50\n",
            "104/104 [==============================] - 32s 307ms/step - loss: 0.0290 - accuracy: 0.9892 - val_loss: 1.1869 - val_accuracy: 0.8209\n",
            "Epoch 47/50\n",
            "104/104 [==============================] - 32s 311ms/step - loss: 0.0222 - accuracy: 0.9899 - val_loss: 1.2173 - val_accuracy: 0.8218\n",
            "Epoch 48/50\n",
            "104/104 [==============================] - 32s 312ms/step - loss: 0.0244 - accuracy: 0.9901 - val_loss: 1.2532 - val_accuracy: 0.8224\n",
            "Epoch 49/50\n",
            "104/104 [==============================] - 32s 308ms/step - loss: 0.0244 - accuracy: 0.9905 - val_loss: 1.2930 - val_accuracy: 0.8203\n",
            "Epoch 50/50\n",
            "104/104 [==============================] - 32s 311ms/step - loss: 0.0233 - accuracy: 0.9908 - val_loss: 1.2658 - val_accuracy: 0.8218\n"
          ],
          "name": "stdout"
        },
        {
          "output_type": "execute_result",
          "data": {
            "text/plain": [
              "<tensorflow.python.keras.callbacks.History at 0x7f8893b7bb70>"
            ]
          },
          "metadata": {
            "tags": []
          },
          "execution_count": 19
        }
      ]
    },
    {
      "cell_type": "code",
      "metadata": {
        "colab": {
          "base_uri": "https://localhost:8080/"
        },
        "id": "v7n5i-P3nIGn",
        "outputId": "8171067f-7720-494d-e5a7-8f847cf5008d"
      },
      "source": [
        "model_deep.summary()"
      ],
      "execution_count": null,
      "outputs": [
        {
          "output_type": "stream",
          "text": [
            "Model: \"sequential\"\n",
            "_________________________________________________________________\n",
            "Layer (type)                 Output Shape              Param #   \n",
            "=================================================================\n",
            "dense (Dense)                (None, 1024)              22066176  \n",
            "_________________________________________________________________\n",
            "dropout (Dropout)            (None, 1024)              0         \n",
            "_________________________________________________________________\n",
            "batch_normalization (BatchNo (None, 1024)              4096      \n",
            "_________________________________________________________________\n",
            "dense_1 (Dense)              (None, 512)               524800    \n",
            "_________________________________________________________________\n",
            "dropout_1 (Dropout)          (None, 512)               0         \n",
            "_________________________________________________________________\n",
            "dense_2 (Dense)              (None, 256)               131328    \n",
            "_________________________________________________________________\n",
            "dropout_2 (Dropout)          (None, 256)               0         \n",
            "_________________________________________________________________\n",
            "batch_normalization_1 (Batch (None, 256)               1024      \n",
            "_________________________________________________________________\n",
            "dense_3 (Dense)              (None, 128)               32896     \n",
            "_________________________________________________________________\n",
            "dropout_3 (Dropout)          (None, 128)               0         \n",
            "_________________________________________________________________\n",
            "dense_4 (Dense)              (None, 29)                3741      \n",
            "=================================================================\n",
            "Total params: 22,764,061\n",
            "Trainable params: 22,761,501\n",
            "Non-trainable params: 2,560\n",
            "_________________________________________________________________\n"
          ],
          "name": "stdout"
        }
      ]
    },
    {
      "cell_type": "code",
      "metadata": {
        "colab": {
          "base_uri": "https://localhost:8080/"
        },
        "id": "OMsmBf4uoAU9",
        "outputId": "341139f2-e9fc-4290-de43-e81211bc0774"
      },
      "source": [
        "print(\"Accuracy Score = \", model_deep.evaluate(X_test, to_categorical(label_encoder.transform(y_test))))"
      ],
      "execution_count": null,
      "outputs": [
        {
          "output_type": "stream",
          "text": [
            "180/180 [==============================] - 7s 39ms/step - loss: 1.0485 - accuracy: 0.8445\n",
            "Accuracy Score =  [1.0485262870788574, 0.8445217609405518]\n"
          ],
          "name": "stdout"
        }
      ]
    },
    {
      "cell_type": "code",
      "metadata": {
        "colab": {
          "base_uri": "https://localhost:8080/"
        },
        "id": "LCbXKwvZoFkC",
        "outputId": "9dd7190c-2c1f-40ee-dfa8-038bc27e59b8"
      },
      "source": [
        "predictions = list(model_deep.predict_classes(X_))\n",
        "deep_tags = []\n",
        "for i in predictions:\n",
        "  deep_tags.extend(list(label_encoder.inverse_transform([i])))"
      ],
      "execution_count": null,
      "outputs": [
        {
          "output_type": "stream",
          "text": [
            "WARNING:tensorflow:From <ipython-input-21-d8ceb1f49df6>:1: Sequential.predict_classes (from tensorflow.python.keras.engine.sequential) is deprecated and will be removed after 2021-01-01.\n",
            "Instructions for updating:\n",
            "Please use instead:* `np.argmax(model.predict(x), axis=-1)`,   if your model does multi-class classification   (e.g. if it uses a `softmax` last-layer activation).* `(model.predict(x) > 0.5).astype(\"int32\")`,   if your model does binary classification   (e.g. if it uses a `sigmoid` last-layer activation).\n"
          ],
          "name": "stdout"
        }
      ]
    },
    {
      "cell_type": "code",
      "metadata": {
        "id": "4jmIt1Oyo_4c"
      },
      "source": [
        "with open ('/content/drive/MyDrive/Cleaned_Sentences_Task/ann_predictions.txt', 'w+') as file:\n",
        "    json.dump(deep_tags, file)"
      ],
      "execution_count": null,
      "outputs": []
    }
  ]
}