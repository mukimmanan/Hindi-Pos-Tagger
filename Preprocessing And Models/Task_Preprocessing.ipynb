{
  "nbformat": 4,
  "nbformat_minor": 0,
  "metadata": {
    "colab": {
      "name": "Task Preprocessing.ipynb",
      "provenance": []
    },
    "kernelspec": {
      "name": "python3",
      "display_name": "Python 3"
    }
  },
  "cells": [
    {
      "cell_type": "code",
      "metadata": {
        "id": "e7l2VADNXLir"
      },
      "source": [
        "import os\n",
        "import random\n",
        "from google.colab import drive\n",
        "import json"
      ],
      "execution_count": null,
      "outputs": []
    },
    {
      "cell_type": "code",
      "metadata": {
        "colab": {
          "base_uri": "https://localhost:8080/"
        },
        "id": "bP6IYruWXVhs",
        "outputId": "3d9a2c8d-f6d9-4d8e-e58d-422011b6829f"
      },
      "source": [
        "drive.mount('/content/drive')"
      ],
      "execution_count": null,
      "outputs": [
        {
          "output_type": "stream",
          "text": [
            "Drive already mounted at /content/drive; to attempt to forcibly remount, call drive.mount(\"/content/drive\", force_remount=True).\n"
          ],
          "name": "stdout"
        }
      ]
    },
    {
      "cell_type": "code",
      "metadata": {
        "id": "U3bh14AUXVyf"
      },
      "source": [
        "files = []\n",
        "for file in os.listdir('/content/drive/MyDrive/hindi_corpus/'):\n",
        "  if '.dat' in file:\n",
        "    files.append(file)"
      ],
      "execution_count": null,
      "outputs": []
    },
    {
      "cell_type": "code",
      "metadata": {
        "colab": {
          "base_uri": "https://localhost:8080/"
        },
        "id": "yktjdNDCXgEF",
        "outputId": "d9e9b671-3886-4f1e-fb8f-8f682718b22d"
      },
      "source": [
        "print(\"Total number of files used =\", len(files))"
      ],
      "execution_count": null,
      "outputs": [
        {
          "output_type": "stream",
          "text": [
            "Total number of files used = 1058\n"
          ],
          "name": "stdout"
        }
      ]
    },
    {
      "cell_type": "code",
      "metadata": {
        "colab": {
          "base_uri": "https://localhost:8080/"
        },
        "id": "5Y-Jse5lXhbA",
        "outputId": "9b221cd0-ed1d-4cc9-d124-527027474b8f"
      },
      "source": [
        "tagged_Sentences = []\n",
        "curr = []\n",
        "for f in files:\n",
        "  with open('/content/drive/MyDrive/hindi_corpus/' + f, 'r') as file:\n",
        "    for i in file.readlines():\n",
        "      i = i.split(\"\\t\")\n",
        "      if len(i) > 5:\n",
        "        curr.append((i[1], i[4]))\n",
        "      else:\n",
        "        tagged_Sentences.append(curr)\n",
        "        curr = []\n",
        "print(\"Total number of sentences =\", len(tagged_Sentences))"
      ],
      "execution_count": null,
      "outputs": [
        {
          "output_type": "stream",
          "text": [
            "Total number of sentences = 18685\n"
          ],
          "name": "stdout"
        }
      ]
    },
    {
      "cell_type": "code",
      "metadata": {
        "id": "X9AaevGWXi8P"
      },
      "source": [
        "def creating_bigram_sents(current_sents):\n",
        "  bigram_sents = []\n",
        "  for idx in range(len(current_sents) - 1):\n",
        "    bigram_sents.append([(current_sents[idx][0], current_sents[idx][1]), (current_sents[idx + 1][0], current_sents[idx + 1][1])])\n",
        "  return bigram_sents"
      ],
      "execution_count": null,
      "outputs": []
    },
    {
      "cell_type": "code",
      "metadata": {
        "id": "lwr9VunPXphi"
      },
      "source": [
        "def clean_sents(tagged_sentences):\n",
        "  final_sents = []\n",
        "  for sents in tagged_sentences:\n",
        "    new_sents = []\n",
        "    for word, tag in sents:\n",
        "      if tag == \"SYM\" or tag == '' or tag == 'PUNC':\n",
        "        continue\n",
        "      new_sents.append((word, tag.lower()))\n",
        "    final_sents.extend(creating_bigram_sents(new_sents))\n",
        "  return final_sents"
      ],
      "execution_count": null,
      "outputs": []
    },
    {
      "cell_type": "code",
      "metadata": {
        "colab": {
          "base_uri": "https://localhost:8080/"
        },
        "id": "kUhmiv9-Xs3R",
        "outputId": "28189dca-e07c-47c7-eb9c-71ac2aeb2e54"
      },
      "source": [
        "tagged_sentences = clean_sents(tagged_Sentences)\n",
        "random.shuffle(tagged_sentences)\n",
        "print(\"Total number of sentences after cleaning =\", len(tagged_sentences))"
      ],
      "execution_count": null,
      "outputs": [
        {
          "output_type": "stream",
          "text": [
            "Total number of sentences after cleaning = 331364\n"
          ],
          "name": "stdout"
        }
      ]
    },
    {
      "cell_type": "code",
      "metadata": {
        "colab": {
          "base_uri": "https://localhost:8080/"
        },
        "id": "6zghsz2PX4IS",
        "outputId": "0810f914-3ee7-417a-ccd4-f3012004ac81"
      },
      "source": [
        "print(tagged_sentences[0])"
      ],
      "execution_count": null,
      "outputs": [
        {
          "output_type": "stream",
          "text": [
            "[('आग', 'nn'), ('की', 'psp')]\n"
          ],
          "name": "stdout"
        }
      ]
    },
    {
      "cell_type": "code",
      "metadata": {
        "id": "OtAT-9JQdvAi"
      },
      "source": [
        "def removing_tags(tagged_sentences):\n",
        "  return [word for word, tag in tagged_sentences]"
      ],
      "execution_count": null,
      "outputs": []
    },
    {
      "cell_type": "code",
      "metadata": {
        "id": "jMfY5NJvd3Jc"
      },
      "source": [
        "removed = [removing_tags(i) for i in tagged_sentences]"
      ],
      "execution_count": null,
      "outputs": []
    },
    {
      "cell_type": "code",
      "metadata": {
        "id": "2krd1lnCeFMr"
      },
      "source": [
        "tags = []\n",
        "for i in tagged_sentences:\n",
        "    tags.extend([i[0][1], i[1][1]])"
      ],
      "execution_count": null,
      "outputs": []
    },
    {
      "cell_type": "code",
      "metadata": {
        "id": "rqJuyNxGZJjb"
      },
      "source": [
        "with open ('/content/drive/MyDrive/Cleaned_Sentences_Task/cleaned_sentences.txt', 'w+') as file:\n",
        "    json.dump(tagged_sentences, file)"
      ],
      "execution_count": null,
      "outputs": []
    },
    {
      "cell_type": "code",
      "metadata": {
        "id": "V5D8nhcdd6XQ"
      },
      "source": [
        "with open ('/content/drive/MyDrive/Cleaned_Sentences_Task/sentences_without_tags.txt', 'w+') as file:\n",
        "    json.dump(removed, file)"
      ],
      "execution_count": null,
      "outputs": []
    },
    {
      "cell_type": "code",
      "metadata": {
        "id": "jPNAtl7Nd_w9"
      },
      "source": [
        "with open ('/content/drive/MyDrive/Cleaned_Sentences_Task/tags_original.txt', 'w+') as file:\n",
        "    json.dump(tags, file)"
      ],
      "execution_count": null,
      "outputs": []
    }
  ]
}