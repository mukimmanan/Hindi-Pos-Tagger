{
  "nbformat": 4,
  "nbformat_minor": 0,
  "metadata": {
    "colab": {
      "name": "NLTK Training And Tags Prediction.ipynb",
      "provenance": []
    },
    "kernelspec": {
      "name": "python3",
      "display_name": "Python 3"
    }
  },
  "cells": [
    {
      "cell_type": "code",
      "metadata": {
        "id": "r17kPzwPZ0R6"
      },
      "source": [
        "from nltk.tag import tnt\n",
        "from google.colab import drive\n",
        "import json"
      ],
      "execution_count": null,
      "outputs": []
    },
    {
      "cell_type": "code",
      "metadata": {
        "colab": {
          "base_uri": "https://localhost:8080/"
        },
        "id": "-YV05lZGaHOA",
        "outputId": "b538a028-7e45-4687-ecf9-0ae4d51f138e"
      },
      "source": [
        "drive.mount('/content/drive')"
      ],
      "execution_count": null,
      "outputs": [
        {
          "output_type": "stream",
          "text": [
            "Drive already mounted at /content/drive; to attempt to forcibly remount, call drive.mount(\"/content/drive\", force_remount=True).\n"
          ],
          "name": "stdout"
        }
      ]
    },
    {
      "cell_type": "code",
      "metadata": {
        "id": "prFuxzzJaNH_"
      },
      "source": [
        "tagged_sentences = []\n",
        "with open('/content/drive/MyDrive/Cleaned_Sentences_Task/cleaned_sentences.txt', 'r') as file:\n",
        "    tagged_sentences = json.load(file)"
      ],
      "execution_count": null,
      "outputs": []
    },
    {
      "cell_type": "code",
      "metadata": {
        "id": "RdR6PyS2ebFt"
      },
      "source": [
        "actual_tags = []\n",
        "with open ('/content/drive/MyDrive/Cleaned_Sentences_Task/tags_original.txt', 'r') as file:\n",
        "    actual_tags = json.load(file)"
      ],
      "execution_count": null,
      "outputs": []
    },
    {
      "cell_type": "code",
      "metadata": {
        "id": "0443JSMKe2JZ"
      },
      "source": [
        "removed = []\n",
        "with open ('/content/drive/MyDrive/Cleaned_Sentences_Task/sentences_without_tags.txt', 'r') as file:\n",
        "    removed = json.load(file)"
      ],
      "execution_count": null,
      "outputs": []
    },
    {
      "cell_type": "code",
      "metadata": {
        "id": "IOXNAAwzcx9f"
      },
      "source": [
        "tagged_sents = []\n",
        "for i in tagged_sentences:\n",
        "    tagged_sents.append([tuple(i[0]), tuple(i[1])])"
      ],
      "execution_count": null,
      "outputs": []
    },
    {
      "cell_type": "code",
      "metadata": {
        "colab": {
          "base_uri": "https://localhost:8080/"
        },
        "id": "Nl3XI6UpdYjp",
        "outputId": "9fc9d82d-b827-4107-87ec-75432a5514d0"
      },
      "source": [
        "print(tagged_sents[0])"
      ],
      "execution_count": null,
      "outputs": [
        {
          "output_type": "stream",
          "text": [
            "[('आग', 'nn'), ('की', 'psp')]\n"
          ],
          "name": "stdout"
        }
      ]
    },
    {
      "cell_type": "code",
      "metadata": {
        "colab": {
          "base_uri": "https://localhost:8080/"
        },
        "id": "yhpZjfnyZ--7",
        "outputId": "0b26d44f-77a1-45a2-a208-41efb834305c"
      },
      "source": [
        "pos_tagger = tnt.TnT()\n",
        "pos_tagger.train(tagged_sents[0: -4000])\n",
        "print(\"POS TAGGER ACCURACY = {}\".format(pos_tagger.evaluate(tagged_sents[-4000: ])))"
      ],
      "execution_count": null,
      "outputs": [
        {
          "output_type": "stream",
          "text": [
            "POS TAGGER ACCURACY = 0.929125\n"
          ],
          "name": "stdout"
        }
      ]
    },
    {
      "cell_type": "code",
      "metadata": {
        "id": "hozg7ab5dGOJ"
      },
      "source": [
        "nltk_tags = []\n",
        "for i in removed:\n",
        "  tag_1 = pos_tagger.tag(i)[0][1]\n",
        "  tag_2 = pos_tagger.tag(i)[1][1]\n",
        "  nltk_tags.extend([tag_1, tag_2])"
      ],
      "execution_count": null,
      "outputs": []
    },
    {
      "cell_type": "code",
      "metadata": {
        "colab": {
          "base_uri": "https://localhost:8080/"
        },
        "id": "YM3wKa2leykx",
        "outputId": "fa2f40e5-ba36-48d3-e965-0ba1a44ca05d"
      },
      "source": [
        "print(nltk_tags[0: 2])"
      ],
      "execution_count": null,
      "outputs": [
        {
          "output_type": "stream",
          "text": [
            "['nn', 'psp']\n"
          ],
          "name": "stdout"
        }
      ]
    },
    {
      "cell_type": "code",
      "metadata": {
        "id": "GfisqHZQfzy1"
      },
      "source": [
        "with open ('/content/drive/MyDrive/Cleaned_Sentences_Task/nltk_predictions.txt', 'w+') as file:\n",
        "    json.dump(nltk_tags, file)"
      ],
      "execution_count": null,
      "outputs": []
    }
  ]
}