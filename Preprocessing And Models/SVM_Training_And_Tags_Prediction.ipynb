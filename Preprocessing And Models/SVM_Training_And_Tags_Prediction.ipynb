{
  "nbformat": 4,
  "nbformat_minor": 0,
  "metadata": {
    "colab": {
      "name": "SVM Training And Tags Prediction.ipynb",
      "provenance": [],
      "collapsed_sections": []
    },
    "kernelspec": {
      "name": "python3",
      "display_name": "Python 3"
    }
  },
  "cells": [
    {
      "cell_type": "code",
      "metadata": {
        "id": "h79DVTCKf9os"
      },
      "source": [
        "from sklearn.feature_extraction import DictVectorizer\n",
        "from sklearn.model_selection import train_test_split\n",
        "from sklearn.svm import SVC\n",
        "from google.colab import drive\n",
        "import json\n",
        "from sklearn.metrics import accuracy_score"
      ],
      "execution_count": null,
      "outputs": []
    },
    {
      "cell_type": "code",
      "metadata": {
        "colab": {
          "base_uri": "https://localhost:8080/"
        },
        "id": "r-rK5liigVn6",
        "outputId": "899d2182-85cf-4b7e-8258-85f03b82504a"
      },
      "source": [
        "drive.mount('/content/drive')"
      ],
      "execution_count": null,
      "outputs": [
        {
          "output_type": "stream",
          "text": [
            "Mounted at /content/drive\n"
          ],
          "name": "stdout"
        }
      ]
    },
    {
      "cell_type": "code",
      "metadata": {
        "id": "Z9EOEyORgxPC"
      },
      "source": [
        "actual_tags = []\n",
        "with open ('/content/drive/MyDrive/Cleaned_Sentences_Task/tags_original.txt', 'r') as file:\n",
        "    actual_tags = json.load(file)"
      ],
      "execution_count": null,
      "outputs": []
    },
    {
      "cell_type": "code",
      "metadata": {
        "id": "5ROZFtKsgyyY"
      },
      "source": [
        "removed = []\n",
        "with open ('/content/drive/MyDrive/Cleaned_Sentences_Task/sentences_without_tags.txt', 'r') as file:\n",
        "    removed = json.load(file)"
      ],
      "execution_count": null,
      "outputs": []
    },
    {
      "cell_type": "code",
      "metadata": {
        "colab": {
          "base_uri": "https://localhost:8080/"
        },
        "id": "qC8dlrMUiPkE",
        "outputId": "6dc7e48c-e2e9-4d2b-ce24-d46b310f0932"
      },
      "source": [
        "print(len(removed))"
      ],
      "execution_count": null,
      "outputs": [
        {
          "output_type": "stream",
          "text": [
            "331364\n"
          ],
          "name": "stdout"
        }
      ]
    },
    {
      "cell_type": "code",
      "metadata": {
        "id": "1rSPUeIVg9fo"
      },
      "source": [
        "def extract_features(sentence, index):\n",
        "  return {\n",
        "      'word':sentence[index],\n",
        "      'is_first':index==0,\n",
        "      'is_last':index ==len(sentence)-1,\n",
        "      'prefix-1':sentence[index][0],\n",
        "      'prefix-2':sentence[index][:2],\n",
        "      'prefix-3':sentence[index][:3],\n",
        "      'prefix-3':sentence[index][:4],\n",
        "      'suffix-1':sentence[index][-1],\n",
        "      'suffix-2':sentence[index][-2:],\n",
        "      'suffix-3':sentence[index][-3:],\n",
        "      'suffix-3':sentence[index][-4:],\n",
        "      'prev_word':'' if index == 0 else sentence[index-1],\n",
        "      'next_word':'' if index == 1 else sentence[index+1],\n",
        "      'has_hyphen': '-' in sentence[index],\n",
        "      'is_numeric': sentence[index].isdigit()\n",
        "  }"
      ],
      "execution_count": null,
      "outputs": []
    },
    {
      "cell_type": "code",
      "metadata": {
        "id": "KwtpiFO2hCG5"
      },
      "source": [
        "def transform_to_dataset(sentences):\n",
        "  X, y = [], []\n",
        "  for sents in sentences:\n",
        "    for index in range(len(sents)):\n",
        "      X.append(extract_features(sents, index))\n",
        "  return X, actual_tags[0: 22000]"
      ],
      "execution_count": null,
      "outputs": []
    },
    {
      "cell_type": "code",
      "metadata": {
        "colab": {
          "base_uri": "https://localhost:8080/"
        },
        "id": "xoG2KfFehK2y",
        "outputId": "d93227d2-d983-404c-fc9b-0b271a79343e"
      },
      "source": [
        "X_, y_ = transform_to_dataset(removed[0: 11000])\n",
        "for i in range(0, 100):\n",
        "  print(X_[i], \" ----------> \", y_[i])"
      ],
      "execution_count": null,
      "outputs": [
        {
          "output_type": "stream",
          "text": [
            "{'word': 'आग', 'is_first': True, 'is_last': False, 'prefix-1': 'आ', 'prefix-2': 'आग', 'prefix-3': 'आग', 'suffix-1': 'ग', 'suffix-2': 'आग', 'suffix-3': 'आग', 'prev_word': '', 'next_word': 'की', 'has_hyphen': False, 'is_numeric': False}  ---------->  nn\n",
            "{'word': 'की', 'is_first': False, 'is_last': True, 'prefix-1': 'क', 'prefix-2': 'की', 'prefix-3': 'की', 'suffix-1': 'ी', 'suffix-2': 'की', 'suffix-3': 'की', 'prev_word': 'आग', 'next_word': '', 'has_hyphen': False, 'is_numeric': False}  ---------->  psp\n",
            "{'word': 'लिए', 'is_first': True, 'is_last': False, 'prefix-1': 'ल', 'prefix-2': 'लि', 'prefix-3': 'लिए', 'suffix-1': 'ए', 'suffix-2': 'िए', 'suffix-3': 'लिए', 'prev_word': '', 'next_word': 'सांडिआ', 'has_hyphen': False, 'is_numeric': False}  ---------->  psp\n",
            "{'word': 'सांडिआ', 'is_first': False, 'is_last': True, 'prefix-1': 'स', 'prefix-2': 'सा', 'prefix-3': 'सांड', 'suffix-1': 'आ', 'suffix-2': 'िआ', 'suffix-3': 'ंडिआ', 'prev_word': 'लिए', 'next_word': '', 'has_hyphen': False, 'is_numeric': False}  ---------->  nnpc\n",
            "{'word': 'की', 'is_first': True, 'is_last': False, 'prefix-1': 'क', 'prefix-2': 'की', 'prefix-3': 'की', 'suffix-1': 'ी', 'suffix-2': 'की', 'suffix-3': 'की', 'prev_word': '', 'next_word': 'किरण', 'has_hyphen': False, 'is_numeric': False}  ---------->  psp\n",
            "{'word': 'किरण', 'is_first': False, 'is_last': True, 'prefix-1': 'क', 'prefix-2': 'कि', 'prefix-3': 'किरण', 'suffix-1': 'ण', 'suffix-2': 'रण', 'suffix-3': 'किरण', 'prev_word': 'की', 'next_word': '', 'has_hyphen': False, 'is_numeric': False}  ---------->  nnpc\n",
            "{'word': 'जानी', 'is_first': True, 'is_last': False, 'prefix-1': 'ज', 'prefix-2': 'जा', 'prefix-3': 'जानी', 'suffix-1': 'ी', 'suffix-2': 'नी', 'suffix-3': 'जानी', 'prev_word': '', 'next_word': 'चाहिए', 'has_hyphen': False, 'is_numeric': False}  ---------->  vaux\n",
            "{'word': 'चाहिए', 'is_first': False, 'is_last': True, 'prefix-1': 'च', 'prefix-2': 'चा', 'prefix-3': 'चाहि', 'suffix-1': 'ए', 'suffix-2': 'िए', 'suffix-3': 'ाहिए', 'prev_word': 'जानी', 'next_word': '', 'has_hyphen': False, 'is_numeric': False}  ---------->  vaux\n",
            "{'word': 'बिहार', 'is_first': True, 'is_last': False, 'prefix-1': 'ब', 'prefix-2': 'बि', 'prefix-3': 'बिहा', 'suffix-1': 'र', 'suffix-2': 'ार', 'suffix-3': 'िहार', 'prev_word': '', 'next_word': 'की', 'has_hyphen': False, 'is_numeric': False}  ---------->  nnp\n",
            "{'word': 'की', 'is_first': False, 'is_last': True, 'prefix-1': 'क', 'prefix-2': 'की', 'prefix-3': 'की', 'suffix-1': 'ी', 'suffix-2': 'की', 'suffix-3': 'की', 'prev_word': 'बिहार', 'next_word': '', 'has_hyphen': False, 'is_numeric': False}  ---------->  psp\n",
            "{'word': 'मोहम्मद', 'is_first': True, 'is_last': False, 'prefix-1': 'म', 'prefix-2': 'मो', 'prefix-3': 'मोहम', 'suffix-1': 'द', 'suffix-2': 'मद', 'suffix-3': 'म्मद', 'prev_word': '', 'next_word': 'हकीम', 'has_hyphen': False, 'is_numeric': False}  ---------->  nnpc\n",
            "{'word': 'हकीम', 'is_first': False, 'is_last': True, 'prefix-1': 'ह', 'prefix-2': 'हक', 'prefix-3': 'हकीम', 'suffix-1': 'म', 'suffix-2': 'ीम', 'suffix-3': 'हकीम', 'prev_word': 'मोहम्मद', 'next_word': '', 'has_hyphen': False, 'is_numeric': False}  ---------->  nnp\n",
            "{'word': 'ने', 'is_first': True, 'is_last': False, 'prefix-1': 'न', 'prefix-2': 'ने', 'prefix-3': 'ने', 'suffix-1': 'े', 'suffix-2': 'ने', 'suffix-3': 'ने', 'prev_word': '', 'next_word': 'बताया', 'has_hyphen': False, 'is_numeric': False}  ---------->  psp\n",
            "{'word': 'बताया', 'is_first': False, 'is_last': True, 'prefix-1': 'ब', 'prefix-2': 'बत', 'prefix-3': 'बताय', 'suffix-1': 'ा', 'suffix-2': 'या', 'suffix-3': 'ताया', 'prev_word': 'ने', 'next_word': '', 'has_hyphen': False, 'is_numeric': False}  ---------->  vm\n",
            "{'word': 'को', 'is_first': True, 'is_last': False, 'prefix-1': 'क', 'prefix-2': 'को', 'prefix-3': 'को', 'suffix-1': 'ो', 'suffix-2': 'को', 'suffix-3': 'को', 'prev_word': '', 'next_word': 'खत्म', 'has_hyphen': False, 'is_numeric': False}  ---------->  psp\n",
            "{'word': 'खत्म', 'is_first': False, 'is_last': True, 'prefix-1': 'ख', 'prefix-2': 'खत', 'prefix-3': 'खत्म', 'suffix-1': 'म', 'suffix-2': '्म', 'suffix-3': 'खत्म', 'prev_word': 'को', 'next_word': '', 'has_hyphen': False, 'is_numeric': False}  ---------->  jj\n",
            "{'word': 'के', 'is_first': True, 'is_last': False, 'prefix-1': 'क', 'prefix-2': 'के', 'prefix-3': 'के', 'suffix-1': 'े', 'suffix-2': 'के', 'suffix-3': 'के', 'prev_word': '', 'next_word': 'मरने', 'has_hyphen': False, 'is_numeric': False}  ---------->  psp\n",
            "{'word': 'मरने', 'is_first': False, 'is_last': True, 'prefix-1': 'म', 'prefix-2': 'मर', 'prefix-3': 'मरने', 'suffix-1': 'े', 'suffix-2': 'ने', 'suffix-3': 'मरने', 'prev_word': 'के', 'next_word': '', 'has_hyphen': False, 'is_numeric': False}  ---------->  vm\n",
            "{'word': 'कभी', 'is_first': True, 'is_last': False, 'prefix-1': 'क', 'prefix-2': 'कभ', 'prefix-3': 'कभी', 'suffix-1': 'ी', 'suffix-2': 'भी', 'suffix-3': 'कभी', 'prev_word': '', 'next_word': 'कुछ', 'has_hyphen': False, 'is_numeric': False}  ---------->  prp\n",
            "{'word': 'कुछ', 'is_first': False, 'is_last': True, 'prefix-1': 'क', 'prefix-2': 'कु', 'prefix-3': 'कुछ', 'suffix-1': 'छ', 'suffix-2': 'ुछ', 'suffix-3': 'कुछ', 'prev_word': 'कभी', 'next_word': '', 'has_hyphen': False, 'is_numeric': False}  ---------->  qf\n",
            "{'word': 'लादेन', 'is_first': True, 'is_last': False, 'prefix-1': 'ल', 'prefix-2': 'ला', 'prefix-3': 'लादे', 'suffix-1': 'न', 'suffix-2': 'ेन', 'suffix-3': 'ादेन', 'prev_word': '', 'next_word': 'की', 'has_hyphen': False, 'is_numeric': False}  ---------->  nnp\n",
            "{'word': 'की', 'is_first': False, 'is_last': True, 'prefix-1': 'क', 'prefix-2': 'की', 'prefix-3': 'की', 'suffix-1': 'ी', 'suffix-2': 'की', 'suffix-3': 'की', 'prev_word': 'लादेन', 'next_word': '', 'has_hyphen': False, 'is_numeric': False}  ---------->  psp\n",
            "{'word': 'रहे', 'is_first': True, 'is_last': False, 'prefix-1': 'र', 'prefix-2': 'रह', 'prefix-3': 'रहे', 'suffix-1': 'े', 'suffix-2': 'हे', 'suffix-3': 'रहे', 'prev_word': '', 'next_word': 'हैं', 'has_hyphen': False, 'is_numeric': False}  ---------->  vaux\n",
            "{'word': 'हैं', 'is_first': False, 'is_last': True, 'prefix-1': 'ह', 'prefix-2': 'है', 'prefix-3': 'हैं', 'suffix-1': 'ं', 'suffix-2': 'ैं', 'suffix-3': 'हैं', 'prev_word': 'रहे', 'next_word': '', 'has_hyphen': False, 'is_numeric': False}  ---------->  vaux\n",
            "{'word': 'लिए', 'is_first': True, 'is_last': False, 'prefix-1': 'ल', 'prefix-2': 'लि', 'prefix-3': 'लिए', 'suffix-1': 'ए', 'suffix-2': 'िए', 'suffix-3': 'लिए', 'prev_word': '', 'next_word': 'बचाने', 'has_hyphen': False, 'is_numeric': False}  ---------->  psp\n",
            "{'word': 'बचाने', 'is_first': False, 'is_last': True, 'prefix-1': 'ब', 'prefix-2': 'बच', 'prefix-3': 'बचान', 'suffix-1': 'े', 'suffix-2': 'ने', 'suffix-3': 'चाने', 'prev_word': 'लिए', 'next_word': '', 'has_hyphen': False, 'is_numeric': False}  ---------->  vm\n",
            "{'word': 'कांग्रेस', 'is_first': True, 'is_last': False, 'prefix-1': 'क', 'prefix-2': 'का', 'prefix-3': 'कांग', 'suffix-1': 'स', 'suffix-2': 'ेस', 'suffix-3': '्रेस', 'prev_word': '', 'next_word': 'में', 'has_hyphen': False, 'is_numeric': False}  ---------->  nnp\n",
            "{'word': 'में', 'is_first': False, 'is_last': True, 'prefix-1': 'म', 'prefix-2': 'मे', 'prefix-3': 'में', 'suffix-1': 'ं', 'suffix-2': 'ें', 'suffix-3': 'में', 'prev_word': 'कांग्रेस', 'next_word': '', 'has_hyphen': False, 'is_numeric': False}  ---------->  psp\n",
            "{'word': 'युवाओं', 'is_first': True, 'is_last': False, 'prefix-1': 'य', 'prefix-2': 'यु', 'prefix-3': 'युवा', 'suffix-1': 'ं', 'suffix-2': 'ओं', 'suffix-3': 'वाओं', 'prev_word': '', 'next_word': 'की', 'has_hyphen': False, 'is_numeric': False}  ---------->  nn\n",
            "{'word': 'की', 'is_first': False, 'is_last': True, 'prefix-1': 'क', 'prefix-2': 'की', 'prefix-3': 'की', 'suffix-1': 'ी', 'suffix-2': 'की', 'suffix-3': 'की', 'prev_word': 'युवाओं', 'next_word': '', 'has_hyphen': False, 'is_numeric': False}  ---------->  psp\n",
            "{'word': 'जारी', 'is_first': True, 'is_last': False, 'prefix-1': 'ज', 'prefix-2': 'जा', 'prefix-3': 'जारी', 'suffix-1': 'ी', 'suffix-2': 'री', 'suffix-3': 'जारी', 'prev_word': '', 'next_word': 'करने', 'has_hyphen': False, 'is_numeric': False}  ---------->  jj\n",
            "{'word': 'करने', 'is_first': False, 'is_last': True, 'prefix-1': 'क', 'prefix-2': 'कर', 'prefix-3': 'करने', 'suffix-1': 'े', 'suffix-2': 'ने', 'suffix-3': 'करने', 'prev_word': 'जारी', 'next_word': '', 'has_hyphen': False, 'is_numeric': False}  ---------->  vm\n",
            "{'word': 'मसले', 'is_first': True, 'is_last': False, 'prefix-1': 'म', 'prefix-2': 'मस', 'prefix-3': 'मसले', 'suffix-1': 'े', 'suffix-2': 'ले', 'suffix-3': 'मसले', 'prev_word': '', 'next_word': 'को', 'has_hyphen': False, 'is_numeric': False}  ---------->  nn\n",
            "{'word': 'को', 'is_first': False, 'is_last': True, 'prefix-1': 'क', 'prefix-2': 'को', 'prefix-3': 'को', 'suffix-1': 'ो', 'suffix-2': 'को', 'suffix-3': 'को', 'prev_word': 'मसले', 'next_word': '', 'has_hyphen': False, 'is_numeric': False}  ---------->  psp\n",
            "{'word': 'के', 'is_first': True, 'is_last': False, 'prefix-1': 'क', 'prefix-2': 'के', 'prefix-3': 'के', 'suffix-1': 'े', 'suffix-2': 'के', 'suffix-3': 'के', 'prev_word': '', 'next_word': 'लोगों', 'has_hyphen': False, 'is_numeric': False}  ---------->  psp\n",
            "{'word': 'लोगों', 'is_first': False, 'is_last': True, 'prefix-1': 'ल', 'prefix-2': 'लो', 'prefix-3': 'लोगो', 'suffix-1': 'ं', 'suffix-2': 'ों', 'suffix-3': 'ोगों', 'prev_word': 'के', 'next_word': '', 'has_hyphen': False, 'is_numeric': False}  ---------->  nn\n",
            "{'word': 'रही', 'is_first': True, 'is_last': False, 'prefix-1': 'र', 'prefix-2': 'रह', 'prefix-3': 'रही', 'suffix-1': 'ी', 'suffix-2': 'ही', 'suffix-3': 'रही', 'prev_word': '', 'next_word': 'है', 'has_hyphen': False, 'is_numeric': False}  ---------->  vaux\n",
            "{'word': 'है', 'is_first': False, 'is_last': True, 'prefix-1': 'ह', 'prefix-2': 'है', 'prefix-3': 'है', 'suffix-1': 'ै', 'suffix-2': 'है', 'suffix-3': 'है', 'prev_word': 'रही', 'next_word': '', 'has_hyphen': False, 'is_numeric': False}  ---------->  vaux\n",
            "{'word': 'को', 'is_first': True, 'is_last': False, 'prefix-1': 'क', 'prefix-2': 'को', 'prefix-3': 'को', 'suffix-1': 'ो', 'suffix-2': 'को', 'suffix-3': 'को', 'prev_word': '', 'next_word': 'गहरा', 'has_hyphen': False, 'is_numeric': False}  ---------->  psp\n",
            "{'word': 'गहरा', 'is_first': False, 'is_last': True, 'prefix-1': 'ग', 'prefix-2': 'गह', 'prefix-3': 'गहरा', 'suffix-1': 'ा', 'suffix-2': 'रा', 'suffix-3': 'गहरा', 'prev_word': 'को', 'next_word': '', 'has_hyphen': False, 'is_numeric': False}  ---------->  jj\n",
            "{'word': 'अभी', 'is_first': True, 'is_last': False, 'prefix-1': 'अ', 'prefix-2': 'अभ', 'prefix-3': 'अभी', 'suffix-1': 'ी', 'suffix-2': 'भी', 'suffix-3': 'अभी', 'prev_word': '', 'next_word': 'इसका', 'has_hyphen': False, 'is_numeric': False}  ---------->  prp\n",
            "{'word': 'इसका', 'is_first': False, 'is_last': True, 'prefix-1': 'इ', 'prefix-2': 'इस', 'prefix-3': 'इसका', 'suffix-1': 'ा', 'suffix-2': 'का', 'suffix-3': 'इसका', 'prev_word': 'अभी', 'next_word': '', 'has_hyphen': False, 'is_numeric': False}  ---------->  prp\n",
            "{'word': 'फांसी', 'is_first': True, 'is_last': False, 'prefix-1': 'फ', 'prefix-2': 'फा', 'prefix-3': 'फांस', 'suffix-1': 'ी', 'suffix-2': 'सी', 'suffix-3': 'ांसी', 'prev_word': '', 'next_word': 'लग', 'has_hyphen': False, 'is_numeric': False}  ---------->  nn\n",
            "{'word': 'लग', 'is_first': False, 'is_last': True, 'prefix-1': 'ल', 'prefix-2': 'लग', 'prefix-3': 'लग', 'suffix-1': 'ग', 'suffix-2': 'लग', 'suffix-3': 'लग', 'prev_word': 'फांसी', 'next_word': '', 'has_hyphen': False, 'is_numeric': False}  ---------->  vm\n",
            "{'word': 'चढ़त', 'is_first': True, 'is_last': False, 'prefix-1': 'च', 'prefix-2': 'चढ़', 'prefix-3': 'चढ़त', 'suffix-1': 'त', 'suffix-2': 'ढ़त', 'suffix-3': 'चढ़त', 'prev_word': '', 'next_word': 'के', 'has_hyphen': False, 'is_numeric': False}  ---------->  nn\n",
            "{'word': 'के', 'is_first': False, 'is_last': True, 'prefix-1': 'क', 'prefix-2': 'के', 'prefix-3': 'के', 'suffix-1': 'े', 'suffix-2': 'के', 'suffix-3': 'के', 'prev_word': 'चढ़त', 'next_word': '', 'has_hyphen': False, 'is_numeric': False}  ---------->  psp\n",
            "{'word': 'साथ', 'is_first': True, 'is_last': False, 'prefix-1': 'स', 'prefix-2': 'सा', 'prefix-3': 'साथ', 'suffix-1': 'थ', 'suffix-2': 'ाथ', 'suffix-3': 'साथ', 'prev_word': '', 'next_word': 'समूचे', 'has_hyphen': False, 'is_numeric': False}  ---------->  nst\n",
            "{'word': 'समूचे', 'is_first': False, 'is_last': True, 'prefix-1': 'स', 'prefix-2': 'सम', 'prefix-3': 'समूच', 'suffix-1': 'े', 'suffix-2': 'चे', 'suffix-3': 'मूचे', 'prev_word': 'साथ', 'next_word': '', 'has_hyphen': False, 'is_numeric': False}  ---------->  jj\n",
            "{'word': 'घुसा', 'is_first': True, 'is_last': False, 'prefix-1': 'घ', 'prefix-2': 'घु', 'prefix-3': 'घुसा', 'suffix-1': 'ा', 'suffix-2': 'सा', 'suffix-3': 'घुसा', 'prev_word': '', 'next_word': 'NULL', 'has_hyphen': False, 'is_numeric': False}  ---------->  vm\n",
            "{'word': 'NULL', 'is_first': False, 'is_last': True, 'prefix-1': 'N', 'prefix-2': 'NU', 'prefix-3': 'NULL', 'suffix-1': 'L', 'suffix-2': 'LL', 'suffix-3': 'NULL', 'prev_word': 'घुसा', 'next_word': '', 'has_hyphen': False, 'is_numeric': False}  ---------->  cc\n",
            "{'word': 'सफल', 'is_first': True, 'is_last': False, 'prefix-1': 'स', 'prefix-2': 'सफ', 'prefix-3': 'सफल', 'suffix-1': 'ल', 'suffix-2': 'फल', 'suffix-3': 'सफल', 'prev_word': '', 'next_word': 'रहे', 'has_hyphen': False, 'is_numeric': False}  ---------->  jj\n",
            "{'word': 'रहे', 'is_first': False, 'is_last': True, 'prefix-1': 'र', 'prefix-2': 'रह', 'prefix-3': 'रहे', 'suffix-1': 'े', 'suffix-2': 'हे', 'suffix-3': 'रहे', 'prev_word': 'सफल', 'next_word': '', 'has_hyphen': False, 'is_numeric': False}  ---------->  vm\n",
            "{'word': '२६९९.२०', 'is_first': True, 'is_last': False, 'prefix-1': '२', 'prefix-2': '२६', 'prefix-3': '२६९९', 'suffix-1': '०', 'suffix-2': '२०', 'suffix-3': '९.२०', 'prev_word': '', 'next_word': 'करोड़', 'has_hyphen': False, 'is_numeric': False}  ---------->  qcc\n",
            "{'word': 'करोड़', 'is_first': False, 'is_last': True, 'prefix-1': 'क', 'prefix-2': 'कर', 'prefix-3': 'करोड़', 'suffix-1': 'ड़', 'suffix-2': 'ोड़', 'suffix-3': 'करोड़', 'prev_word': '२६९९.२०', 'next_word': '', 'has_hyphen': False, 'is_numeric': False}  ---------->  qc\n",
            "{'word': 'केंद्र', 'is_first': True, 'is_last': False, 'prefix-1': 'क', 'prefix-2': 'के', 'prefix-3': 'केंद', 'suffix-1': 'र', 'suffix-2': '्र', 'suffix-3': 'ंद्र', 'prev_word': '', 'next_word': 'के', 'has_hyphen': False, 'is_numeric': False}  ---------->  nnp\n",
            "{'word': 'के', 'is_first': False, 'is_last': True, 'prefix-1': 'क', 'prefix-2': 'के', 'prefix-3': 'के', 'suffix-1': 'े', 'suffix-2': 'के', 'suffix-3': 'के', 'prev_word': 'केंद्र', 'next_word': '', 'has_hyphen': False, 'is_numeric': False}  ---------->  psp\n",
            "{'word': 'भारी', 'is_first': True, 'is_last': False, 'prefix-1': 'भ', 'prefix-2': 'भा', 'prefix-3': 'भारी', 'suffix-1': 'ी', 'suffix-2': 'री', 'suffix-3': 'भारी', 'prev_word': '', 'next_word': 'क्षति', 'has_hyphen': False, 'is_numeric': False}  ---------->  jj\n",
            "{'word': 'क्षति', 'is_first': False, 'is_last': True, 'prefix-1': 'क', 'prefix-2': 'क्', 'prefix-3': 'क्षत', 'suffix-1': 'ि', 'suffix-2': 'ति', 'suffix-3': '्षति', 'prev_word': 'भारी', 'next_word': '', 'has_hyphen': False, 'is_numeric': False}  ---------->  nn\n",
            "{'word': 'को', 'is_first': True, 'is_last': False, 'prefix-1': 'क', 'prefix-2': 'को', 'prefix-3': 'को', 'suffix-1': 'ो', 'suffix-2': 'को', 'suffix-3': 'को', 'prev_word': '', 'next_word': 'कम', 'has_hyphen': False, 'is_numeric': False}  ---------->  psp\n",
            "{'word': 'कम', 'is_first': False, 'is_last': True, 'prefix-1': 'क', 'prefix-2': 'कम', 'prefix-3': 'कम', 'suffix-1': 'म', 'suffix-2': 'कम', 'suffix-3': 'कम', 'prev_word': 'को', 'next_word': '', 'has_hyphen': False, 'is_numeric': False}  ---------->  qf\n",
            "{'word': 'और', 'is_first': True, 'is_last': False, 'prefix-1': 'औ', 'prefix-2': 'और', 'prefix-3': 'और', 'suffix-1': 'र', 'suffix-2': 'और', 'suffix-3': 'और', 'prev_word': '', 'next_word': 'पंजाब', 'has_hyphen': False, 'is_numeric': False}  ---------->  cc\n",
            "{'word': 'पंजाब', 'is_first': False, 'is_last': True, 'prefix-1': 'प', 'prefix-2': 'पं', 'prefix-3': 'पंजा', 'suffix-1': 'ब', 'suffix-2': 'ाब', 'suffix-3': 'ंजाब', 'prev_word': 'और', 'next_word': '', 'has_hyphen': False, 'is_numeric': False}  ---------->  nnp\n",
            "{'word': 'पूरा', 'is_first': True, 'is_last': False, 'prefix-1': 'प', 'prefix-2': 'पू', 'prefix-3': 'पूरा', 'suffix-1': 'ा', 'suffix-2': 'रा', 'suffix-3': 'पूरा', 'prev_word': '', 'next_word': 'आनंद', 'has_hyphen': False, 'is_numeric': False}  ---------->  jj\n",
            "{'word': 'आनंद', 'is_first': False, 'is_last': True, 'prefix-1': 'आ', 'prefix-2': 'आन', 'prefix-3': 'आनंद', 'suffix-1': 'द', 'suffix-2': 'ंद', 'suffix-3': 'आनंद', 'prev_word': 'पूरा', 'next_word': '', 'has_hyphen': False, 'is_numeric': False}  ---------->  nn\n",
            "{'word': 'साल', 'is_first': True, 'is_last': False, 'prefix-1': 'स', 'prefix-2': 'सा', 'prefix-3': 'साल', 'suffix-1': 'ल', 'suffix-2': 'ाल', 'suffix-3': 'साल', 'prev_word': '', 'next_word': 'बाद', 'has_hyphen': False, 'is_numeric': False}  ---------->  nn\n",
            "{'word': 'बाद', 'is_first': False, 'is_last': True, 'prefix-1': 'ब', 'prefix-2': 'बा', 'prefix-3': 'बाद', 'suffix-1': 'द', 'suffix-2': 'ाद', 'suffix-3': 'बाद', 'prev_word': 'साल', 'next_word': '', 'has_hyphen': False, 'is_numeric': False}  ---------->  nst\n",
            "{'word': '३६', 'is_first': True, 'is_last': False, 'prefix-1': '३', 'prefix-2': '३६', 'prefix-3': '३६', 'suffix-1': '६', 'suffix-2': '३६', 'suffix-3': '३६', 'prev_word': '', 'next_word': 'लाख', 'has_hyphen': False, 'is_numeric': True}  ---------->  qcc\n",
            "{'word': 'लाख', 'is_first': False, 'is_last': True, 'prefix-1': 'ल', 'prefix-2': 'ला', 'prefix-3': 'लाख', 'suffix-1': 'ख', 'suffix-2': 'ाख', 'suffix-3': 'लाख', 'prev_word': '३६', 'next_word': '', 'has_hyphen': False, 'is_numeric': False}  ---------->  qc\n",
            "{'word': 'दिनों', 'is_first': True, 'is_last': False, 'prefix-1': 'द', 'prefix-2': 'दि', 'prefix-3': 'दिनो', 'suffix-1': 'ं', 'suffix-2': 'ों', 'suffix-3': 'िनों', 'prev_word': '', 'next_word': 'में', 'has_hyphen': False, 'is_numeric': False}  ---------->  nn\n",
            "{'word': 'में', 'is_first': False, 'is_last': True, 'prefix-1': 'म', 'prefix-2': 'मे', 'prefix-3': 'में', 'suffix-1': 'ं', 'suffix-2': 'ें', 'suffix-3': 'में', 'prev_word': 'दिनों', 'next_word': '', 'has_hyphen': False, 'is_numeric': False}  ---------->  psp\n",
            "{'word': 'दूर', 'is_first': True, 'is_last': False, 'prefix-1': 'द', 'prefix-2': 'दू', 'prefix-3': 'दूर', 'suffix-1': 'र', 'suffix-2': 'ूर', 'suffix-3': 'दूर', 'prev_word': '', 'next_word': 'किया', 'has_hyphen': False, 'is_numeric': False}  ---------->  nst\n",
            "{'word': 'किया', 'is_first': False, 'is_last': True, 'prefix-1': 'क', 'prefix-2': 'कि', 'prefix-3': 'किया', 'suffix-1': 'ा', 'suffix-2': 'या', 'suffix-3': 'किया', 'prev_word': 'दूर', 'next_word': '', 'has_hyphen': False, 'is_numeric': False}  ---------->  vm\n",
            "{'word': 'पर', 'is_first': True, 'is_last': False, 'prefix-1': 'प', 'prefix-2': 'पर', 'prefix-3': 'पर', 'suffix-1': 'र', 'suffix-2': 'पर', 'suffix-3': 'पर', 'prev_word': '', 'next_word': 'अतिरिक्त', 'has_hyphen': False, 'is_numeric': False}  ---------->  psp\n",
            "{'word': 'अतिरिक्त', 'is_first': False, 'is_last': True, 'prefix-1': 'अ', 'prefix-2': 'अत', 'prefix-3': 'अतिर', 'suffix-1': 'त', 'suffix-2': '्त', 'suffix-3': 'िक्त', 'prev_word': 'पर', 'next_word': '', 'has_hyphen': False, 'is_numeric': False}  ---------->  jj\n",
            "{'word': 'फैसले', 'is_first': True, 'is_last': False, 'prefix-1': 'फ', 'prefix-2': 'फै', 'prefix-3': 'फैसल', 'suffix-1': 'े', 'suffix-2': 'ले', 'suffix-3': 'ैसले', 'prev_word': '', 'next_word': 'से', 'has_hyphen': False, 'is_numeric': False}  ---------->  nn\n",
            "{'word': 'से', 'is_first': False, 'is_last': True, 'prefix-1': 'स', 'prefix-2': 'से', 'prefix-3': 'से', 'suffix-1': 'े', 'suffix-2': 'से', 'suffix-3': 'से', 'prev_word': 'फैसले', 'next_word': '', 'has_hyphen': False, 'is_numeric': False}  ---------->  psp\n",
            "{'word': 'पर', 'is_first': True, 'is_last': False, 'prefix-1': 'प', 'prefix-2': 'पर', 'prefix-3': 'पर', 'suffix-1': 'र', 'suffix-2': 'पर', 'suffix-3': 'पर', 'prev_word': '', 'next_word': 'प्रतिक्रिया', 'has_hyphen': False, 'is_numeric': False}  ---------->  psp\n",
            "{'word': 'प्रतिक्रिया', 'is_first': False, 'is_last': True, 'prefix-1': 'प', 'prefix-2': 'प्', 'prefix-3': 'प्रत', 'suffix-1': 'ा', 'suffix-2': 'या', 'suffix-3': 'रिया', 'prev_word': 'पर', 'next_word': '', 'has_hyphen': False, 'is_numeric': False}  ---------->  nn\n",
            "{'word': 'वाम', 'is_first': True, 'is_last': False, 'prefix-1': 'व', 'prefix-2': 'वा', 'prefix-3': 'वाम', 'suffix-1': 'म', 'suffix-2': 'ाम', 'suffix-3': 'वाम', 'prev_word': '', 'next_word': 'मतों', 'has_hyphen': False, 'is_numeric': False}  ---------->  nnc\n",
            "{'word': 'मतों', 'is_first': False, 'is_last': True, 'prefix-1': 'म', 'prefix-2': 'मत', 'prefix-3': 'मतों', 'suffix-1': 'ं', 'suffix-2': 'ों', 'suffix-3': 'मतों', 'prev_word': 'वाम', 'next_word': '', 'has_hyphen': False, 'is_numeric': False}  ---------->  nn\n",
            "{'word': 'लेकिन', 'is_first': True, 'is_last': False, 'prefix-1': 'ल', 'prefix-2': 'ले', 'prefix-3': 'लेकि', 'suffix-1': 'न', 'suffix-2': 'िन', 'suffix-3': 'ेकिन', 'prev_word': '', 'next_word': 'यहां', 'has_hyphen': False, 'is_numeric': False}  ---------->  cc\n",
            "{'word': 'यहां', 'is_first': False, 'is_last': True, 'prefix-1': 'य', 'prefix-2': 'यह', 'prefix-3': 'यहां', 'suffix-1': 'ं', 'suffix-2': 'ां', 'suffix-3': 'यहां', 'prev_word': 'लेकिन', 'next_word': '', 'has_hyphen': False, 'is_numeric': False}  ---------->  prp\n",
            "{'word': 'न्यायाधीश', 'is_first': True, 'is_last': False, 'prefix-1': 'न', 'prefix-2': 'न्', 'prefix-3': 'न्या', 'suffix-1': 'श', 'suffix-2': 'ीश', 'suffix-3': 'ाधीश', 'prev_word': '', 'next_word': 'नागेंद्र', 'has_hyphen': False, 'is_numeric': False}  ---------->  nnc\n",
            "{'word': 'नागेंद्र', 'is_first': False, 'is_last': True, 'prefix-1': 'न', 'prefix-2': 'ना', 'prefix-3': 'नागे', 'suffix-1': 'र', 'suffix-2': '्र', 'suffix-3': 'ंद्र', 'prev_word': 'न्यायाधीश', 'next_word': '', 'has_hyphen': False, 'is_numeric': False}  ---------->  nnpc\n",
            "{'word': 'लिए', 'is_first': True, 'is_last': False, 'prefix-1': 'ल', 'prefix-2': 'लि', 'prefix-3': 'लिए', 'suffix-1': 'ए', 'suffix-2': 'िए', 'suffix-3': 'लिए', 'prev_word': '', 'next_word': 'खास', 'has_hyphen': False, 'is_numeric': False}  ---------->  psp\n",
            "{'word': 'खास', 'is_first': False, 'is_last': True, 'prefix-1': 'ख', 'prefix-2': 'खा', 'prefix-3': 'खास', 'suffix-1': 'स', 'suffix-2': 'ास', 'suffix-3': 'खास', 'prev_word': 'लिए', 'next_word': '', 'has_hyphen': False, 'is_numeric': False}  ---------->  jj\n",
            "{'word': 'और', 'is_first': True, 'is_last': False, 'prefix-1': 'औ', 'prefix-2': 'और', 'prefix-3': 'और', 'suffix-1': 'र', 'suffix-2': 'और', 'suffix-3': 'और', 'prev_word': '', 'next_word': 'सोमवार', 'has_hyphen': False, 'is_numeric': False}  ---------->  cc\n",
            "{'word': 'सोमवार', 'is_first': False, 'is_last': True, 'prefix-1': 'स', 'prefix-2': 'सो', 'prefix-3': 'सोमव', 'suffix-1': 'र', 'suffix-2': 'ार', 'suffix-3': 'मवार', 'prev_word': 'और', 'next_word': '', 'has_hyphen': False, 'is_numeric': False}  ---------->  nnp\n",
            "{'word': 'सामाजिक', 'is_first': True, 'is_last': False, 'prefix-1': 'स', 'prefix-2': 'सा', 'prefix-3': 'सामा', 'suffix-1': 'क', 'suffix-2': 'िक', 'suffix-3': 'ाजिक', 'prev_word': '', 'next_word': 'कार्यकर्ता', 'has_hyphen': False, 'is_numeric': False}  ---------->  jj\n",
            "{'word': 'कार्यकर्ता', 'is_first': False, 'is_last': True, 'prefix-1': 'क', 'prefix-2': 'का', 'prefix-3': 'कार्', 'suffix-1': 'ा', 'suffix-2': 'ता', 'suffix-3': 'र्ता', 'prev_word': 'सामाजिक', 'next_word': '', 'has_hyphen': False, 'is_numeric': False}  ---------->  nn\n",
            "{'word': 'छोटी', 'is_first': True, 'is_last': False, 'prefix-1': 'छ', 'prefix-2': 'छो', 'prefix-3': 'छोटी', 'suffix-1': 'ी', 'suffix-2': 'टी', 'suffix-3': 'छोटी', 'prev_word': '', 'next_word': 'बड़ी', 'has_hyphen': False, 'is_numeric': False}  ---------->  jjc\n",
            "{'word': 'बड़ी', 'is_first': False, 'is_last': True, 'prefix-1': 'ब', 'prefix-2': 'बड', 'prefix-3': 'बड़ी', 'suffix-1': 'ी', 'suffix-2': '़ी', 'suffix-3': 'बड़ी', 'prev_word': 'छोटी', 'next_word': '', 'has_hyphen': False, 'is_numeric': False}  ---------->  jj\n",
            "{'word': 'उत्पादन', 'is_first': True, 'is_last': False, 'prefix-1': 'उ', 'prefix-2': 'उत', 'prefix-3': 'उत्प', 'suffix-1': 'न', 'suffix-2': 'दन', 'suffix-3': 'पादन', 'prev_word': '', 'next_word': 'को', 'has_hyphen': False, 'is_numeric': False}  ---------->  nn\n",
            "{'word': 'को', 'is_first': False, 'is_last': True, 'prefix-1': 'क', 'prefix-2': 'को', 'prefix-3': 'को', 'suffix-1': 'ो', 'suffix-2': 'को', 'suffix-3': 'को', 'prev_word': 'उत्पादन', 'next_word': '', 'has_hyphen': False, 'is_numeric': False}  ---------->  psp\n",
            "{'word': 'के', 'is_first': True, 'is_last': False, 'prefix-1': 'क', 'prefix-2': 'के', 'prefix-3': 'के', 'suffix-1': 'े', 'suffix-2': 'के', 'suffix-3': 'के', 'prev_word': '', 'next_word': 'अनुपात', 'has_hyphen': False, 'is_numeric': False}  ---------->  psp\n",
            "{'word': 'अनुपात', 'is_first': False, 'is_last': True, 'prefix-1': 'अ', 'prefix-2': 'अन', 'prefix-3': 'अनुप', 'suffix-1': 'त', 'suffix-2': 'ात', 'suffix-3': 'ुपात', 'prev_word': 'के', 'next_word': '', 'has_hyphen': False, 'is_numeric': False}  ---------->  nn\n",
            "{'word': 'हमलों', 'is_first': True, 'is_last': False, 'prefix-1': 'ह', 'prefix-2': 'हम', 'prefix-3': 'हमलो', 'suffix-1': 'ं', 'suffix-2': 'ों', 'suffix-3': 'मलों', 'prev_word': '', 'next_word': 'की', 'has_hyphen': False, 'is_numeric': False}  ---------->  nn\n",
            "{'word': 'की', 'is_first': False, 'is_last': True, 'prefix-1': 'क', 'prefix-2': 'की', 'prefix-3': 'की', 'suffix-1': 'ी', 'suffix-2': 'की', 'suffix-3': 'की', 'prev_word': 'हमलों', 'next_word': '', 'has_hyphen': False, 'is_numeric': False}  ---------->  psp\n",
            "{'word': 'उन्हें', 'is_first': True, 'is_last': False, 'prefix-1': 'उ', 'prefix-2': 'उन', 'prefix-3': 'उन्ह', 'suffix-1': 'ं', 'suffix-2': 'ें', 'suffix-3': '्हें', 'prev_word': '', 'next_word': 'इस', 'has_hyphen': False, 'is_numeric': False}  ---------->  prp\n",
            "{'word': 'इस', 'is_first': False, 'is_last': True, 'prefix-1': 'इ', 'prefix-2': 'इस', 'prefix-3': 'इस', 'suffix-1': 'स', 'suffix-2': 'इस', 'suffix-3': 'इस', 'prev_word': 'उन्हें', 'next_word': '', 'has_hyphen': False, 'is_numeric': False}  ---------->  dem\n"
          ],
          "name": "stdout"
        }
      ]
    },
    {
      "cell_type": "code",
      "metadata": {
        "colab": {
          "base_uri": "https://localhost:8080/"
        },
        "id": "I8FjD6rEhX0c",
        "outputId": "8f28ada8-e35c-47af-9705-afd5ed08b252"
      },
      "source": [
        "print(len(X_), len(y_))"
      ],
      "execution_count": null,
      "outputs": [
        {
          "output_type": "stream",
          "text": [
            "22000 22000\n"
          ],
          "name": "stdout"
        }
      ]
    },
    {
      "cell_type": "code",
      "metadata": {
        "colab": {
          "base_uri": "https://localhost:8080/"
        },
        "id": "tBPDmuEnh4K8",
        "outputId": "194ec2a4-b56d-4da0-8ad1-cabb3527b448"
      },
      "source": [
        "print(y_[0: 10])\n",
        "print(actual_tags[0: 10])"
      ],
      "execution_count": null,
      "outputs": [
        {
          "output_type": "stream",
          "text": [
            "['nn', 'psp', 'psp', 'nnpc', 'psp', 'nnpc', 'vaux', 'vaux', 'nnp', 'psp']\n",
            "['nn', 'psp', 'psp', 'nnpc', 'psp', 'nnpc', 'vaux', 'vaux', 'nnp', 'psp']\n"
          ],
          "name": "stdout"
        }
      ]
    },
    {
      "cell_type": "code",
      "metadata": {
        "id": "VeVEdwf_imjt"
      },
      "source": [
        "X_train, X_test, y_train, y_test = train_test_split(X_, y_, train_size=0.75)"
      ],
      "execution_count": null,
      "outputs": []
    },
    {
      "cell_type": "code",
      "metadata": {
        "id": "9SLE9ivuiwEc"
      },
      "source": [
        "dict_vectorizer = DictVectorizer(sparse=False)\n",
        "dict_vectorizer.fit(X_)\n",
        "X_train = dict_vectorizer.transform(X_train)\n",
        "X_test = dict_vectorizer.transform(X_test)"
      ],
      "execution_count": null,
      "outputs": []
    },
    {
      "cell_type": "code",
      "metadata": {
        "id": "gZTQOPPMkKt8"
      },
      "source": [
        "X_ = dict_vectorizer.transform(X_)"
      ],
      "execution_count": null,
      "outputs": []
    },
    {
      "cell_type": "code",
      "metadata": {
        "id": "9o4-jMJDkQbW"
      },
      "source": [
        "model_ml = SVC()"
      ],
      "execution_count": null,
      "outputs": []
    },
    {
      "cell_type": "code",
      "metadata": {
        "colab": {
          "base_uri": "https://localhost:8080/"
        },
        "id": "8GEhi5xfkY_V",
        "outputId": "dd49ce7c-c101-45be-b666-3a71e397aeca"
      },
      "source": [
        "model_ml.fit(X_train, y_train)\n",
        "print(\"Accuracy: {}\".format(model_ml.score(X_test, y_test)))"
      ],
      "execution_count": null,
      "outputs": [
        {
          "output_type": "stream",
          "text": [
            "Accuracy: 81.81818181\n"
          ],
          "name": "stdout"
        }
      ]
    },
    {
      "cell_type": "code",
      "metadata": {
        "id": "uDIzdpGhkkfo"
      },
      "source": [
        "final_predictions_ml = []\n",
        "for i in X_test:\n",
        "  final_predictions_ml.extend(model_ml.predict([i]))"
      ],
      "execution_count": null,
      "outputs": []
    },
    {
      "cell_type": "code",
      "metadata": {
        "id": "nqdY_BssktGQ"
      },
      "source": [
        "ml_tags = []\n",
        "for i in X_:\n",
        "  ml_tags.extend(model_ml.predict([i]))"
      ],
      "execution_count": null,
      "outputs": []
    },
    {
      "cell_type": "code",
      "metadata": {
        "id": "oHqxYbW2kzb1"
      },
      "source": [
        "with open ('/content/drive/MyDrive/Cleaned_Sentences_Task/svm_predictions.txt', 'w+') as file:\n",
        "    json.dump(ml_tags, file)"
      ],
      "execution_count": null,
      "outputs": []
    }
  ]
}